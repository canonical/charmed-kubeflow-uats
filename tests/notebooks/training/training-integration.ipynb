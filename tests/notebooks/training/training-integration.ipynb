{
 "cells": [
  {
   "cell_type": "markdown",
   "metadata": {},
   "source": [
    "# Test Training Operator Integration\n",
    "\n",
    "This example notebook is loosely based on the following upstream examples:\n",
    "* [TFJob](https://github.com/kubeflow/training-operator/blob/964a6e836eedff11edfe79cc9f4e5b7c623cbe88/examples/tensorflow/image-classification/create-tfjob.ipynb)\n",
    "* [PyTorchJob](https://github.com/kubeflow/training-operator/blob/964a6e836eedff11edfe79cc9f4e5b7c623cbe88/examples/pytorch/image-classification/create-pytorchjob.ipynb)\n",
    "* [PaddleJob](https://github.com/kubeflow/training-operator/blob/964a6e836eedff11edfe79cc9f4e5b7c623cbe88/examples/paddlepaddle/simple-cpu.yaml)\n",
    "\n",
    "Note that the above can get out of sync with the actual testing upstream does, so make sure to also check out [upstream E2E tests](https://github.com/kubeflow/training-operator/tree/964a6e836eedff11edfe79cc9f4e5b7c623cbe88/sdk/python/test/e2e) for updating the notebook.\n",
    "\n",
    "The workflow for each job (TFJob, PyTorchJob, and PaddleJob) is:\n",
    "- create training job\n",
    "- monitor its execution\n",
    "- get training logs\n",
    "- delete job"
   ]
  },
  {
   "cell_type": "markdown",
   "metadata": {},
   "source": [
    "## Setup"
   ]
  },
  {
   "cell_type": "code",
   "execution_count": null,
   "metadata": {
    "tags": [
     "pytest-skip"
    ]
   },
   "outputs": [],
   "source": [
    "!pip install kubeflow-training tenacity -q"
   ]
  },
  {
   "cell_type": "markdown",
   "metadata": {},
   "source": [
    "### Import required packages"
   ]
  },
  {
   "cell_type": "code",
   "execution_count": null,
   "metadata": {},
   "outputs": [],
   "source": [
    "from kubeflow.training import (\n",
    "    KubeflowOrgV1PaddleJob,\n",
    "    KubeflowOrgV1PaddleJobSpec,\n",
    "    KubeflowOrgV1PyTorchJob,\n",
    "    KubeflowOrgV1PyTorchJobSpec,\n",
    "    KubeflowOrgV1TFJob,\n",
    "    KubeflowOrgV1TFJobSpec,\n",
    "    TrainingClient,\n",
    "    V1ReplicaSpec,\n",
    "    V1RunPolicy,\n",
    ")\n",
    "from kubernetes.client import (\n",
    "    V1Container,\n",
    "    V1ContainerPort,\n",
    "    V1ObjectMeta,\n",
    "    V1PodSpec,\n",
    "    V1PodTemplateSpec,\n",
    ")\n",
    "from tenacity import retry, stop_after_attempt, wait_exponential"
   ]
  },
  {
   "cell_type": "markdown",
   "metadata": {},
   "source": [
    "### Initialise Training Client\n",
    "\n",
    "We will be using the Training SDK for any actions executed as part of this example."
   ]
  },
  {
   "cell_type": "code",
   "execution_count": null,
   "metadata": {},
   "outputs": [],
   "source": [
    "client = TrainingClient()"
   ]
  },
  {
   "cell_type": "markdown",
   "metadata": {},
   "source": [
    "### Define Helper to print training logs"
   ]
  },
  {
   "cell_type": "code",
   "execution_count": null,
   "metadata": {},
   "outputs": [],
   "source": [
    "def print_training_logs(client, job_name: str, container: str, is_master: bool = True):\n",
    "    logs = client.get_job_logs(name=job_name, container=container, is_master=is_master)\n",
    "    print(logs)"
   ]
  },
  {
   "cell_type": "markdown",
   "metadata": {},
   "source": [
    "### Define Helper to check that Job succeeded"
   ]
  },
  {
   "cell_type": "code",
   "execution_count": null,
   "metadata": {},
   "outputs": [],
   "source": [
    "@retry(\n",
    "    wait=wait_exponential(multiplier=2, min=1, max=30),\n",
    "    stop=stop_after_attempt(50),\n",
    "    reraise=True,\n",
    ")\n",
    "def assert_job_succeeded(client, job_name, job_kind):\n",
    "    \"\"\"Wait for the Job to complete successfully.\"\"\"\n",
    "    assert client.is_job_succeeded(\n",
    "        name=job_name, job_kind=job_kind\n",
    "    ), f\"Job {job_name} was not successful.\""
   ]
  },
  {
   "cell_type": "markdown",
   "metadata": {},
   "source": [
    "## Test TFJob"
   ]
  },
  {
   "cell_type": "markdown",
   "metadata": {},
   "source": [
    "### Define a TFJob\n",
    "\n",
    "Define a TFJob object before deploying it."
   ]
  },
  {
   "cell_type": "code",
   "execution_count": null,
   "metadata": {},
   "outputs": [],
   "source": [
    "TFJOB_NAME = \"mnist\"\n",
    "TFJOB_CONTAINER = \"tensorflow\"\n",
    "TFJOB_IMAGE = \"gcr.io/kubeflow-ci/tf-mnist-with-summaries:1.0\""
   ]
  },
  {
   "cell_type": "code",
   "execution_count": null,
   "metadata": {},
   "outputs": [],
   "source": [
    "container = V1Container(\n",
    "    name=TFJOB_CONTAINER,\n",
    "    image=TFJOB_IMAGE,\n",
    "    command=[\n",
    "        \"python\",\n",
    "        \"/var/tf_mnist/mnist_with_summaries.py\",\n",
    "        \"--log_dir=/train/logs\",\n",
    "        \"--learning_rate=0.01\",\n",
    "        \"--batch_size=150\",\n",
    "    ],\n",
    ")\n",
    "\n",
    "worker = V1ReplicaSpec(\n",
    "    replicas=2,\n",
    "    restart_policy=\"Never\",\n",
    "    template=V1PodTemplateSpec(\n",
    "        metadata=V1ObjectMeta(annotations={\"sidecar.istio.io/inject\": \"false\"}),\n",
    "        spec=V1PodSpec(containers=[container]),\n",
    "    ),\n",
    ")\n",
    "\n",
    "chief = V1ReplicaSpec(\n",
    "    replicas=1,\n",
    "    restart_policy=\"Never\",\n",
    "    template=V1PodTemplateSpec(\n",
    "        metadata=V1ObjectMeta(annotations={\"sidecar.istio.io/inject\": \"false\"}),\n",
    "        spec=V1PodSpec(containers=[container]),\n",
    "    ),\n",
    ")\n",
    "\n",
    "ps = V1ReplicaSpec(\n",
    "    replicas=1,\n",
    "    restart_policy=\"Never\",\n",
    "    template=V1PodTemplateSpec(\n",
    "        metadata=V1ObjectMeta(annotations={\"sidecar.istio.io/inject\": \"false\"}),\n",
    "        spec=V1PodSpec(containers=[container]),\n",
    "    ),\n",
    ")\n",
    "\n",
    "tfjob = KubeflowOrgV1TFJob(\n",
    "    api_version=\"kubeflow.org/v1\",\n",
    "    kind=\"TFJob\",\n",
    "    metadata=V1ObjectMeta(name=TFJOB_NAME),\n",
    "    spec=KubeflowOrgV1TFJobSpec(\n",
    "        run_policy=V1RunPolicy(clean_pod_policy=\"None\"),\n",
    "        tf_replica_specs={\"Worker\": worker, \"Chief\": chief, \"PS\": ps},\n",
    "    ),\n",
    ")"
   ]
  },
  {
   "cell_type": "markdown",
   "metadata": {},
   "source": [
    "Print the Job's info to verify it before submission."
   ]
  },
  {
   "cell_type": "code",
   "execution_count": null,
   "metadata": {
    "scrolled": true
   },
   "outputs": [],
   "source": [
    "print(\"Name:\", tfjob.metadata.name)\n",
    "print(\"Spec:\", tfjob.spec.tf_replica_specs)"
   ]
  },
  {
   "cell_type": "markdown",
   "metadata": {},
   "source": [
    "### List existing TFJobs\n",
    "\n",
    "List TFJobs in the current namespace."
   ]
  },
  {
   "cell_type": "code",
   "execution_count": null,
   "metadata": {},
   "outputs": [],
   "source": [
    "[job.metadata.name for job in client.list_tfjobs()]"
   ]
  },
  {
   "cell_type": "markdown",
   "metadata": {},
   "source": [
    "### Create TFJob\n",
    "\n",
    "Create a TFJob using the SDK."
   ]
  },
  {
   "cell_type": "code",
   "execution_count": null,
   "metadata": {},
   "outputs": [],
   "source": [
    "client.create_tfjob(tfjob)"
   ]
  },
  {
   "cell_type": "markdown",
   "metadata": {
    "tags": []
   },
   "source": [
    "### Get TFJob\n",
    "Get the created TFJob by name and check its data.  \n",
    "Make sure that it completes successfully before proceeding. "
   ]
  },
  {
   "cell_type": "code",
   "execution_count": null,
   "metadata": {
    "tags": [
     "raises-exception"
    ]
   },
   "outputs": [],
   "source": [
    "# verify that the Job was created successfully\n",
    "# raises an error if it doesn't exist\n",
    "tfjob = client.get_tfjob(name=TFJOB_NAME)"
   ]
  },
  {
   "cell_type": "code",
   "execution_count": null,
   "metadata": {
    "tags": [
     "raises-exception"
    ]
   },
   "outputs": [],
   "source": [
    "# wait for the Job to complete successfully\n",
    "assert_job_succeeded(client, TFJOB_NAME, job_kind=\"TFJob\")"
   ]
  },
  {
   "cell_type": "code",
   "execution_count": null,
   "metadata": {
    "scrolled": true
   },
   "outputs": [],
   "source": [
    "print(\"Job:\", tfjob.metadata.name, end=\"\\n\\n\")\n",
    "print(\"Job Spec:\", tfjob.spec, sep=\"\\n\", end=\"\\n\\n\")\n",
    "print(\"Job Status:\", tfjob.status, sep=\"\\n\", end=\"\\n\\n\")"
   ]
  },
  {
   "cell_type": "markdown",
   "metadata": {},
   "source": [
    "### Get TFJob Training logs\n",
    "Get and print the training logs of the TFJob with the training steps "
   ]
  },
  {
   "cell_type": "code",
   "execution_count": null,
   "metadata": {},
   "outputs": [],
   "source": [
    "print_training_logs(client, TFJOB_NAME, container=TFJOB_CONTAINER)"
   ]
  },
  {
   "cell_type": "markdown",
   "metadata": {},
   "source": [
    "### Delete TFJob\n",
    "\n",
    "Delete the created TFJob."
   ]
  },
  {
   "cell_type": "code",
   "execution_count": null,
   "metadata": {},
   "outputs": [],
   "source": [
    "client.delete_tfjob(name=TFJOB_NAME)"
   ]
  },
  {
   "cell_type": "code",
   "execution_count": null,
   "metadata": {},
   "outputs": [],
   "source": [
    "@retry(\n",
    "    wait=wait_exponential(multiplier=2, min=1, max=10),\n",
    "    stop=stop_after_attempt(30),\n",
    "    reraise=True,\n",
    ")\n",
    "def assert_tfjob_removed(client, job_name):\n",
    "    \"\"\"Wait for TFJob to be removed.\"\"\"\n",
    "    # fetch the existing TFJob names\n",
    "    # verify that the Job was deleted successfully\n",
    "    jobs = {job.metadata.name for job in client.list_tfjobs()}\n",
    "    assert job_name not in jobs, f\"Failed to delete TFJob {job_name}!\""
   ]
  },
  {
   "cell_type": "code",
   "execution_count": null,
   "metadata": {
    "tags": [
     "raises-exception"
    ]
   },
   "outputs": [],
   "source": [
    "# wait for TFJob resources to be removed successfully\n",
    "assert_tfjob_removed(client, TFJOB_NAME)"
   ]
  },
  {
   "cell_type": "markdown",
   "metadata": {},
   "source": [
    "## Test PyTorchJob"
   ]
  },
  {
   "cell_type": "markdown",
   "metadata": {},
   "source": [
    "### Define a PyTorchJob\n",
    "Define a PyTorchJob object before deploying it. This PyTorchJob is similar to [this](https://github.com/kubeflow/training-operator/blob/11b7a115e6538caeab405344af98f0d5b42a4c96/sdk/python/examples/kubeflow-pytorchjob-sdk.ipynb) example."
   ]
  },
  {
   "cell_type": "code",
   "execution_count": null,
   "metadata": {},
   "outputs": [],
   "source": [
    "PYTORCHJOB_NAME = \"pytorch-mnist-gloo\"\n",
    "PYTORCHJOB_CONTAINER = \"pytorch\"\n",
    "PYTORCHJOB_IMAGE = \"kubeflowkatib/pytorch-mnist-cpu:v1beta1-57ed828\"\n",
    "# The image above should be updated with each release with the latest available in the registry.\n",
    "# Note that instead of using the [image from training-operator repository](https://github.com/kubeflow/training-operator/blob/master/examples/pytorch/mnist/Dockerfile),\n",
    "# the one [from Katib](https://github.com/kubeflow/katib/blob/master/examples/v1beta1/trial-images/pytorch-mnist/Dockerfile.cpu) is being used\n",
    "# due to the large size of the first one."
   ]
  },
  {
   "cell_type": "code",
   "execution_count": null,
   "metadata": {},
   "outputs": [],
   "source": [
    "container = V1Container(\n",
    "    name=PYTORCHJOB_CONTAINER,\n",
    "    image=PYTORCHJOB_IMAGE,\n",
    "    args=[\"--backend\", \"gloo\", \"--epochs\", \"2\"],\n",
    ")\n",
    "\n",
    "replica_spec = V1ReplicaSpec(\n",
    "    replicas=1,\n",
    "    restart_policy=\"OnFailure\",\n",
    "    template=V1PodTemplateSpec(\n",
    "        metadata=V1ObjectMeta(annotations={\"sidecar.istio.io/inject\": \"false\"}),\n",
    "        spec=V1PodSpec(containers=[container]),\n",
    "    ),\n",
    ")\n",
    "\n",
    "pytorchjob = KubeflowOrgV1PyTorchJob(\n",
    "    api_version=\"kubeflow.org/v1\",\n",
    "    kind=\"PyTorchJob\",\n",
    "    metadata=V1ObjectMeta(name=PYTORCHJOB_NAME),\n",
    "    spec=KubeflowOrgV1PyTorchJobSpec(\n",
    "        run_policy=V1RunPolicy(clean_pod_policy=\"None\"),\n",
    "        pytorch_replica_specs={\"Master\": replica_spec, \"Worker\": replica_spec},\n",
    "    ),\n",
    ")"
   ]
  },
  {
   "cell_type": "markdown",
   "metadata": {},
   "source": [
    "Print the Job's info to verify it before submission."
   ]
  },
  {
   "cell_type": "code",
   "execution_count": null,
   "metadata": {},
   "outputs": [],
   "source": [
    "print(\"Name:\", pytorchjob.metadata.name)\n",
    "print(\"Spec:\", pytorchjob.spec.pytorch_replica_specs)"
   ]
  },
  {
   "cell_type": "markdown",
   "metadata": {},
   "source": [
    "### List existing PyTorchJobs\n",
    "\n",
    "List PyTorchJobs in the current namespace."
   ]
  },
  {
   "cell_type": "code",
   "execution_count": null,
   "metadata": {},
   "outputs": [],
   "source": [
    "[job.metadata.name for job in client.list_pytorchjobs()]"
   ]
  },
  {
   "cell_type": "markdown",
   "metadata": {},
   "source": [
    "### Create PyTorchJob\n",
    "\n",
    "Create a PyTorchJob using the SDK."
   ]
  },
  {
   "cell_type": "code",
   "execution_count": null,
   "metadata": {},
   "outputs": [],
   "source": [
    "client.create_pytorchjob(pytorchjob)"
   ]
  },
  {
   "cell_type": "markdown",
   "metadata": {
    "tags": []
   },
   "source": [
    "### Get PyTorchJob\n",
    "Get the created PyTorchJob by name and check its data.  \n",
    "Make sure that it completes successfully before proceeding. "
   ]
  },
  {
   "cell_type": "code",
   "execution_count": null,
   "metadata": {
    "tags": [
     "raises-exception"
    ]
   },
   "outputs": [],
   "source": [
    "# verify that the Job was created successfully\n",
    "# raises an error if it doesn't exist\n",
    "pytorchjob = client.get_pytorchjob(name=PYTORCHJOB_NAME)"
   ]
  },
  {
   "cell_type": "code",
   "execution_count": null,
   "metadata": {
    "tags": [
     "raises-exception"
    ]
   },
   "outputs": [],
   "source": [
    "# wait for the Job to complete successfully\n",
    "assert_job_succeeded(client, PYTORCHJOB_NAME, job_kind=\"PyTorchJob\")"
   ]
  },
  {
   "cell_type": "code",
   "execution_count": null,
   "metadata": {
    "scrolled": true
   },
   "outputs": [],
   "source": [
    "print(\"Job:\", pytorchjob.metadata.name, end=\"\\n\\n\")\n",
    "print(\"Job Spec:\", pytorchjob.spec, sep=\"\\n\", end=\"\\n\\n\")\n",
    "print(\"Job Status:\", pytorchjob.status, sep=\"\\n\", end=\"\\n\\n\")"
   ]
  },
  {
   "cell_type": "markdown",
   "metadata": {},
   "source": [
    "### Get PyTorchJob Training logs\n",
    "Get and print the training logs of the PyTorchJob with the training steps "
   ]
  },
  {
   "cell_type": "code",
   "execution_count": null,
   "metadata": {},
   "outputs": [],
   "source": [
    "print_training_logs(client, PYTORCHJOB_NAME, container=PYTORCHJOB_CONTAINER)"
   ]
  },
  {
   "cell_type": "markdown",
   "metadata": {},
   "source": [
    "### Delete PyTorchJob\n",
    "\n",
    "Delete the created PyTorchJob."
   ]
  },
  {
   "cell_type": "code",
   "execution_count": null,
   "metadata": {},
   "outputs": [],
   "source": [
    "client.delete_pytorchjob(name=PYTORCHJOB_NAME)"
   ]
  },
  {
   "cell_type": "code",
   "execution_count": null,
   "metadata": {},
   "outputs": [],
   "source": [
    "@retry(\n",
    "    wait=wait_exponential(multiplier=2, min=1, max=10),\n",
    "    stop=stop_after_attempt(30),\n",
    "    reraise=True,\n",
    ")\n",
    "def assert_pytorchjob_removed(client, job_name):\n",
    "    \"\"\"Wait for PyTorchJob to be removed.\"\"\"\n",
    "    # fetch the existing PyTorchJob names\n",
    "    # verify that the Job was deleted successfully\n",
    "    jobs = {job.metadata.name for job in client.list_pytorchjobs()}\n",
    "    assert job_name not in jobs, f\"Failed to delete PyTorchJob {job_name}!\""
   ]
  },
  {
   "cell_type": "code",
   "execution_count": null,
   "metadata": {
    "tags": [
     "raises-exception"
    ]
   },
   "outputs": [],
   "source": [
    "# wait for PyTorch job to be removed successfully\n",
    "assert_pytorchjob_removed(client, PYTORCHJOB_NAME)"
   ]
  },
  {
   "cell_type": "markdown",
   "metadata": {},
   "source": [
    "## Test PaddlePaddle"
   ]
  },
  {
   "cell_type": "markdown",
   "metadata": {},
   "source": [
    "### Define a PaddleJob\n",
    "\n",
    "Define a PaddleJob object before deploying it."
   ]
  },
  {
   "cell_type": "code",
   "execution_count": null,
   "metadata": {},
   "outputs": [],
   "source": [
    "PADDLEJOB_NAME = \"paddle-simple-cpu\"\n",
    "PADDLEJOB_CONTAINER = \"paddle\"\n",
    "PADDLEJOB_IMAGE = \"docker.io/paddlepaddle/paddle:2.4.0rc0-cpu\""
   ]
  },
  {
   "cell_type": "code",
   "execution_count": null,
   "metadata": {},
   "outputs": [],
   "source": [
    "port = V1ContainerPort(container_port=37777, name=\"master\")\n",
    "\n",
    "container = V1Container(\n",
    "    name=PADDLEJOB_CONTAINER,\n",
    "    image=PADDLEJOB_IMAGE,\n",
    "    command=[\"python\"],\n",
    "    args=[\"-m\", \"paddle.distributed.launch\", \"run_check\"],\n",
    "    ports=[port],\n",
    ")\n",
    "\n",
    "replica_spec = V1ReplicaSpec(\n",
    "    replicas=2,\n",
    "    restart_policy=\"OnFailure\",\n",
    "    template=V1PodTemplateSpec(\n",
    "        metadata=V1ObjectMeta(annotations={\"sidecar.istio.io/inject\": \"false\"}),\n",
    "        spec=V1PodSpec(containers=[container]),\n",
    "    ),\n",
    ")\n",
    "\n",
    "paddlejob = KubeflowOrgV1PaddleJob(\n",
    "    api_version=\"kubeflow.org/v1\",\n",
    "    kind=\"PaddleJob\",\n",
    "    metadata=V1ObjectMeta(name=PADDLEJOB_NAME),\n",
    "    spec=KubeflowOrgV1PaddleJobSpec(\n",
    "        run_policy=V1RunPolicy(clean_pod_policy=\"None\"),\n",
    "        paddle_replica_specs={\"Worker\": replica_spec},\n",
    "    ),\n",
    ")"
   ]
  },
  {
   "cell_type": "markdown",
   "metadata": {},
   "source": [
    "Print the Job's info to verify it before submission."
   ]
  },
  {
   "cell_type": "code",
   "execution_count": null,
   "metadata": {
    "scrolled": true
   },
   "outputs": [],
   "source": [
    "print(\"Name:\", paddlejob.metadata.name)\n",
    "print(\"Spec:\", paddlejob.spec.paddle_replica_specs)"
   ]
  },
  {
   "cell_type": "markdown",
   "metadata": {},
   "source": [
    "### List existing PaddleJobs\n",
    "\n",
    "List PaddleJobs in the current namespace."
   ]
  },
  {
   "cell_type": "code",
   "execution_count": null,
   "metadata": {},
   "outputs": [],
   "source": [
    "[job.metadata.name for job in client.list_paddlejobs()]"
   ]
  },
  {
   "cell_type": "markdown",
   "metadata": {},
   "source": [
    "### Create PaddleJob\n",
    "\n",
    "Create a PaddleJob using the SDK."
   ]
  },
  {
   "cell_type": "code",
   "execution_count": null,
   "metadata": {},
   "outputs": [],
   "source": [
    "client.create_paddlejob(paddlejob)"
   ]
  },
  {
   "cell_type": "markdown",
   "metadata": {
    "tags": []
   },
   "source": [
    "### Get PaddleJob\n",
    "Get the created PaddleJob by name and check its data.  \n",
    "Make sure that it completes successfully before proceeding. "
   ]
  },
  {
   "cell_type": "code",
   "execution_count": null,
   "metadata": {
    "tags": [
     "raises-exception"
    ]
   },
   "outputs": [],
   "source": [
    "# verify that the Job was created successfully\n",
    "# raises an error if it doesn't exist\n",
    "paddlejob = client.get_paddlejob(name=PADDLEJOB_NAME)"
   ]
  },
  {
   "cell_type": "code",
   "execution_count": null,
   "metadata": {
    "tags": [
     "raises-exception"
    ]
   },
   "outputs": [],
   "source": [
    "# wait for the Job to complete successfully\n",
    "assert_job_succeeded(client, PADDLEJOB_NAME, job_kind=\"PaddleJob\")"
   ]
  },
  {
   "cell_type": "code",
   "execution_count": null,
   "metadata": {
    "scrolled": true
   },
   "outputs": [],
   "source": [
    "print(\"Job:\", paddlejob.metadata.name, end=\"\\n\\n\")\n",
    "print(\"Job Spec:\", paddlejob.spec, sep=\"\\n\", end=\"\\n\\n\")\n",
    "print(\"Job Status:\", paddlejob.status, sep=\"\\n\", end=\"\\n\\n\")"
   ]
  },
  {
   "cell_type": "markdown",
   "metadata": {},
   "source": [
    "### Get PaddleJob Training logs\n",
    "Get and print the training logs of the PaddleJob with the training steps "
   ]
  },
  {
   "cell_type": "code",
   "execution_count": null,
   "metadata": {},
   "outputs": [],
   "source": [
    "# set is_master to False because this example does not include a master replica type\n",
    "print_training_logs(client, PADDLEJOB_NAME, container=PADDLEJOB_CONTAINER, is_master=False)"
   ]
  },
  {
   "cell_type": "markdown",
   "metadata": {},
   "source": [
    "### Delete PaddleJob\n",
    "\n",
    "Delete the created PaddleJob."
   ]
  },
  {
   "cell_type": "code",
   "execution_count": null,
   "metadata": {},
   "outputs": [],
   "source": [
    "client.delete_paddlejob(name=PADDLEJOB_NAME)"
   ]
  },
  {
   "cell_type": "code",
   "execution_count": null,
   "metadata": {},
   "outputs": [],
   "source": [
    "@retry(\n",
    "    wait=wait_exponential(multiplier=2, min=1, max=10),\n",
    "    stop=stop_after_attempt(30),\n",
    "    reraise=True,\n",
    ")\n",
    "def assert_paddlejob_removed(client, job_name):\n",
    "    \"\"\"Wait for PaddleJob to be removed.\"\"\"\n",
    "    # fetch the existing PaddleJob names\n",
    "    # verify that the Job was deleted successfully\n",
    "    jobs = {job.metadata.name for job in client.list_paddlejobs()}\n",
    "    assert job_name not in jobs, f\"Failed to delete PaddleJob {job_name}!\""
   ]
  },
  {
   "cell_type": "code",
   "execution_count": null,
   "metadata": {
    "tags": [
     "raises-exception"
    ]
   },
   "outputs": [],
   "source": [
    "# wait for PaddleJob to be removed successfully\n",
    "assert_paddlejob_removed(client, PADDLEJOB_NAME)"
   ]
  }
 ],
 "metadata": {
  "kernelspec": {
   "display_name": "Python 3 (ipykernel)",
   "language": "python",
   "name": "python3"
  },
  "language_info": {
   "codemirror_mode": {
    "name": "ipython",
    "version": 3
   },
   "file_extension": ".py",
   "mimetype": "text/x-python",
   "name": "python",
   "nbconvert_exporter": "python",
   "pygments_lexer": "ipython3",
   "version": "3.8.10"
  }
 },
 "nbformat": 4,
 "nbformat_minor": 4
}
