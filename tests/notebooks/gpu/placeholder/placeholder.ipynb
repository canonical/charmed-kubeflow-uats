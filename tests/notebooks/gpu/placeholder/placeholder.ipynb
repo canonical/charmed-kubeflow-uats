{
 "cells": [
  {
   "cell_type": "code",
   "execution_count": null,
   "metadata": {},
   "outputs": [],
   "source": [
    "print(\"Placeholder test here\")\n",
    "assert True"
   ]
  }
 ],
 "metadata": {
  "language_info": {
   "name": "python"
  }
 },
 "nbformat": 4,
 "nbformat_minor": 2
}
