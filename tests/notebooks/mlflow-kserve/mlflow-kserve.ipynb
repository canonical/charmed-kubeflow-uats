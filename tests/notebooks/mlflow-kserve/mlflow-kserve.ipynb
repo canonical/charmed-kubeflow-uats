{
 "cells": [
  {
   "cell_type": "markdown",
   "id": "952fd139-d78e-40fc-9c3b-5b03890c1968",
   "metadata": {},
   "source": [
    "# MLflow Kserve integration test\n",
    "- start experiment \n",
    "- train model\n",
    "- save artifact\n",
    "- create kserve inference service with the artifact\n",
    "- make sure service is up\n",
    "- run prediction"
   ]
  },
  {
   "cell_type": "markdown",
   "id": "6ca29afc-3dcf-47be-a361-13475d105562",
   "metadata": {},
   "source": [
    "## Setup"
   ]
  },
  {
   "cell_type": "code",
   "execution_count": 1,
   "id": "f74fb1f7-f776-4559-94ed-e9c7aa0af901",
   "metadata": {},
   "outputs": [],
   "source": [
    "# pin the mlflow client to match the version of the deployed MLflow server\n",
    "!pip install minio mlflow==2.1.1 boto3 tenacity -q"
   ]
  },
  {
   "cell_type": "markdown",
   "id": "3094d524-724f-4271-864f-19260348643c",
   "metadata": {},
   "source": [
    "### Import required packages"
   ]
  },
  {
   "cell_type": "code",
   "execution_count": 2,
   "id": "fbc9d89d-66dd-4b9a-830b-35767e8c180e",
   "metadata": {},
   "outputs": [],
   "source": [
    "import mlflow\n",
    "import numpy as np\n",
    "import pandas as pd\n",
    "import requests\n",
    "\n",
    "from kubernetes import client as k8s_client, config as k8s_config\n",
    "from mlflow.models.signature import infer_signature\n",
    "from sklearn.metrics import mean_squared_error, mean_absolute_error, r2_score\n",
    "from sklearn.model_selection import train_test_split\n",
    "from sklearn.linear_model import ElasticNet\n",
    "\n",
    "from sklearn.model_selection import train_test_split\n",
    "from tenacity import retry, stop_after_attempt, wait_exponential"
   ]
  },
  {
   "cell_type": "markdown",
   "id": "5c7d6151-dfdc-4e2c-aaa5-580aec88a1a9",
   "metadata": {},
   "source": [
    "## Download Data"
   ]
  },
  {
   "cell_type": "code",
   "execution_count": 3,
   "id": "9abe576f-6124-4346-90ec-30ec727c5f12",
   "metadata": {},
   "outputs": [
    {
     "data": {
      "text/html": [
       "<div>\n",
       "<style scoped>\n",
       "    .dataframe tbody tr th:only-of-type {\n",
       "        vertical-align: middle;\n",
       "    }\n",
       "\n",
       "    .dataframe tbody tr th {\n",
       "        vertical-align: top;\n",
       "    }\n",
       "\n",
       "    .dataframe thead th {\n",
       "        text-align: right;\n",
       "    }\n",
       "</style>\n",
       "<table border=\"1\" class=\"dataframe\">\n",
       "  <thead>\n",
       "    <tr style=\"text-align: right;\">\n",
       "      <th></th>\n",
       "      <th>fixed acidity</th>\n",
       "      <th>volatile acidity</th>\n",
       "      <th>citric acid</th>\n",
       "      <th>residual sugar</th>\n",
       "      <th>chlorides</th>\n",
       "      <th>free sulfur dioxide</th>\n",
       "      <th>total sulfur dioxide</th>\n",
       "      <th>density</th>\n",
       "      <th>pH</th>\n",
       "      <th>sulphates</th>\n",
       "      <th>alcohol</th>\n",
       "      <th>quality</th>\n",
       "    </tr>\n",
       "  </thead>\n",
       "  <tbody>\n",
       "    <tr>\n",
       "      <th>0</th>\n",
       "      <td>7.4</td>\n",
       "      <td>0.70</td>\n",
       "      <td>0.00</td>\n",
       "      <td>1.9</td>\n",
       "      <td>0.076</td>\n",
       "      <td>11.0</td>\n",
       "      <td>34.0</td>\n",
       "      <td>0.9978</td>\n",
       "      <td>3.51</td>\n",
       "      <td>0.56</td>\n",
       "      <td>9.4</td>\n",
       "      <td>5</td>\n",
       "    </tr>\n",
       "    <tr>\n",
       "      <th>1</th>\n",
       "      <td>7.8</td>\n",
       "      <td>0.88</td>\n",
       "      <td>0.00</td>\n",
       "      <td>2.6</td>\n",
       "      <td>0.098</td>\n",
       "      <td>25.0</td>\n",
       "      <td>67.0</td>\n",
       "      <td>0.9968</td>\n",
       "      <td>3.20</td>\n",
       "      <td>0.68</td>\n",
       "      <td>9.8</td>\n",
       "      <td>5</td>\n",
       "    </tr>\n",
       "    <tr>\n",
       "      <th>2</th>\n",
       "      <td>7.8</td>\n",
       "      <td>0.76</td>\n",
       "      <td>0.04</td>\n",
       "      <td>2.3</td>\n",
       "      <td>0.092</td>\n",
       "      <td>15.0</td>\n",
       "      <td>54.0</td>\n",
       "      <td>0.9970</td>\n",
       "      <td>3.26</td>\n",
       "      <td>0.65</td>\n",
       "      <td>9.8</td>\n",
       "      <td>5</td>\n",
       "    </tr>\n",
       "    <tr>\n",
       "      <th>3</th>\n",
       "      <td>11.2</td>\n",
       "      <td>0.28</td>\n",
       "      <td>0.56</td>\n",
       "      <td>1.9</td>\n",
       "      <td>0.075</td>\n",
       "      <td>17.0</td>\n",
       "      <td>60.0</td>\n",
       "      <td>0.9980</td>\n",
       "      <td>3.16</td>\n",
       "      <td>0.58</td>\n",
       "      <td>9.8</td>\n",
       "      <td>6</td>\n",
       "    </tr>\n",
       "    <tr>\n",
       "      <th>4</th>\n",
       "      <td>7.4</td>\n",
       "      <td>0.70</td>\n",
       "      <td>0.00</td>\n",
       "      <td>1.9</td>\n",
       "      <td>0.076</td>\n",
       "      <td>11.0</td>\n",
       "      <td>34.0</td>\n",
       "      <td>0.9978</td>\n",
       "      <td>3.51</td>\n",
       "      <td>0.56</td>\n",
       "      <td>9.4</td>\n",
       "      <td>5</td>\n",
       "    </tr>\n",
       "  </tbody>\n",
       "</table>\n",
       "</div>"
      ],
      "text/plain": [
       "   fixed acidity  volatile acidity  citric acid  residual sugar  chlorides  \\\n",
       "0            7.4              0.70         0.00             1.9      0.076   \n",
       "1            7.8              0.88         0.00             2.6      0.098   \n",
       "2            7.8              0.76         0.04             2.3      0.092   \n",
       "3           11.2              0.28         0.56             1.9      0.075   \n",
       "4            7.4              0.70         0.00             1.9      0.076   \n",
       "\n",
       "   free sulfur dioxide  total sulfur dioxide  density    pH  sulphates  \\\n",
       "0                 11.0                  34.0   0.9978  3.51       0.56   \n",
       "1                 25.0                  67.0   0.9968  3.20       0.68   \n",
       "2                 15.0                  54.0   0.9970  3.26       0.65   \n",
       "3                 17.0                  60.0   0.9980  3.16       0.58   \n",
       "4                 11.0                  34.0   0.9978  3.51       0.56   \n",
       "\n",
       "   alcohol  quality  \n",
       "0      9.4        5  \n",
       "1      9.8        5  \n",
       "2      9.8        5  \n",
       "3      9.8        6  \n",
       "4      9.4        5  "
      ]
     },
     "execution_count": 3,
     "metadata": {},
     "output_type": "execute_result"
    }
   ],
   "source": [
    "data = pd.read_csv(\"http://archive.ics.uci.edu/ml/machine-learning-databases/wine-quality/winequality-red.csv\", sep=\";\")\n",
    "data.head()"
   ]
  },
  {
   "cell_type": "code",
   "execution_count": 4,
   "id": "5aeda990-8f15-4278-9b07-f67396af8f9a",
   "metadata": {},
   "outputs": [
    {
     "data": {
      "text/plain": [
       "(1599, 12)"
      ]
     },
     "execution_count": 4,
     "metadata": {},
     "output_type": "execute_result"
    }
   ],
   "source": [
    "data.shape"
   ]
  },
  {
   "cell_type": "markdown",
   "id": "caa9d2cb-ddff-4a9d-9a32-114b20de2ddb",
   "metadata": {},
   "source": [
    "## Preprocess Data"
   ]
  },
  {
   "cell_type": "code",
   "execution_count": 5,
   "id": "35a436e0-cf31-402e-b06d-056adb5eb2e1",
   "metadata": {},
   "outputs": [],
   "source": [
    "TARGET_COLUMN = \"quality\"\n",
    "train, test = train_test_split(data)\n",
    "\n",
    "train_x = train.drop([TARGET_COLUMN], axis=1)\n",
    "test_x = test.drop([TARGET_COLUMN], axis=1)\n",
    "train_y = train[[TARGET_COLUMN]]\n",
    "test_y = test[[TARGET_COLUMN]]\n"
   ]
  },
  {
   "cell_type": "markdown",
   "id": "cc726740-f603-4eea-ae31-f845e4b15f08",
   "metadata": {},
   "source": [
    "## Create MLflow experiment"
   ]
  },
  {
   "cell_type": "code",
   "execution_count": 6,
   "id": "6a707ec7-958d-46ad-9761-9643e75db972",
   "metadata": {},
   "outputs": [],
   "source": [
    "wine_experiment_name = \"My Wine Experiment Kserve\"\n",
    "experiment = mlflow.get_experiment_by_name(wine_experiment_name)\n",
    "experiment_id = (\n",
    "    mlflow.create_experiment(name=wine_experiment_name)\n",
    "    if experiment is None\n",
    "    else experiment.experiment_id\n",
    ")"
   ]
  },
  {
   "cell_type": "code",
   "execution_count": 7,
   "id": "b1681488-4301-47b4-81cb-1d0d586ba2fa",
   "metadata": {},
   "outputs": [],
   "source": [
    "# check that the experiment was created successfully\n",
    "assert mlflow.get_experiment(experiment_id).name == wine_experiment_name, f\"Failed to create experiment {wine_experiment_name}!\""
   ]
  },
  {
   "cell_type": "markdown",
   "id": "3b8aca90-33ed-42b0-bdfe-5c44029681c6",
   "metadata": {},
   "source": [
    "## Train and store model"
   ]
  },
  {
   "cell_type": "code",
   "execution_count": 8,
   "id": "f2c152c1-52ab-4c24-9703-e0016b8b0e7d",
   "metadata": {},
   "outputs": [],
   "source": [
    "def experiment(alpha, l1_ratio):\n",
    "    mlflow.sklearn.autolog()\n",
    "    with mlflow.start_run(run_name='wine_models', experiment_id=experiment_id) as run:\n",
    "            mlflow.set_tag(\"author\", \"kf-testing\")\n",
    "            lr = ElasticNet(alpha=alpha, l1_ratio=l1_ratio, random_state=42)\n",
    "            lr.fit(train_x, train_y)\n",
    "\n",
    "            pred_y = lr.predict(test_x)\n",
    "            mlflow.log_metric(\"rmse\", np.sqrt(mean_squared_error(test_y, pred_y)))\n",
    "            mlflow.log_metric(\"r2\", r2_score(test_y, pred_y))\n",
    "            mlflow.log_metric(\"mae\", mean_absolute_error(test_y, pred_y))\n",
    "\n",
    "            signature = infer_signature(test_x, pred_y)\n",
    "            result = mlflow.sklearn.log_model(lr, \"model\", registered_model_name=\"wine-elasticnet\", signature=signature)\n",
    "            model_uri = f\"{mlflow.get_artifact_uri()}/{result.artifact_path}\"\n",
    "    \n",
    "    return run, model_uri"
   ]
  },
  {
   "cell_type": "code",
   "execution_count": 9,
   "id": "70b3db8f-e153-4de9-88d5-fb374eb7600c",
   "metadata": {},
   "outputs": [
    {
     "name": "stderr",
     "output_type": "stream",
     "text": [
      "2023/10/23 12:45:50 WARNING mlflow.utils.autologging_utils: MLflow autologging encountered a warning: \"/opt/conda/lib/python3.8/site-packages/_distutils_hack/__init__.py:33: UserWarning: Setuptools is replacing distutils.\"\n",
      "Registered model 'wine-elasticnet' already exists. Creating a new version of this model...\n",
      "2023/10/23 12:45:53 INFO mlflow.tracking._model_registry.client: Waiting up to 300 seconds for model version to finish creation.                     Model name: wine-elasticnet, version 3\n",
      "Created version '3' of model 'wine-elasticnet'.\n"
     ]
    }
   ],
   "source": [
    "run, model_uri = experiment(0.5, 0.5)"
   ]
  },
  {
   "cell_type": "code",
   "execution_count": 10,
   "id": "cedb1a32-3975-4d48-958c-dd5a9f324da1",
   "metadata": {},
   "outputs": [
    {
     "data": {
      "text/plain": [
       "'s3://mlflow/1/d4087e8103db4f9ba82fd81ec164507e/artifacts/model'"
      ]
     },
     "execution_count": 10,
     "metadata": {},
     "output_type": "execute_result"
    }
   ],
   "source": [
    "model_uri"
   ]
  },
  {
   "cell_type": "markdown",
   "id": "f70c9cce-63d6-4aa3-aeed-9285f72da4ed",
   "metadata": {},
   "source": [
    "## Deploy Kserve's InferenceService"
   ]
  },
  {
   "cell_type": "code",
   "execution_count": 11,
   "id": "0889cc17-e41e-4860-b43e-99693d72811c",
   "metadata": {},
   "outputs": [],
   "source": [
    "def deploy(\n",
    "    kserve_inference_name: str = \"wine-regressor\",\n",
    "    model_uri: str = \"default_model_uri\",\n",
    "):\n",
    "    import yaml\n",
    "\n",
    "    from kubernetes import client, config\n",
    "\n",
    "    manifest = \"\"\"\n",
    "apiVersion: \"serving.kserve.io/v1beta1\"\n",
    "kind: \"InferenceService\"\n",
    "metadata:\n",
    "  name: \"\"\"+kserve_inference_name+\"\"\"\n",
    "spec:\n",
    "  predictor:\n",
    "    serviceAccountName: kserve-controller-s3\n",
    "    sklearn:\n",
    "      storageUri: \"\"\"+model_uri+\"\"\"\n",
    "    \"\"\"\n",
    "    \n",
    "\n",
    "\n",
    "    with open(\"/var/run/secrets/kubernetes.io/serviceaccount/namespace\", \"r\") as f:\n",
    "        namespace = f.read().strip()\n",
    "\n",
    "    config.load_incluster_config()\n",
    "    api_instance = client.ApiClient()\n",
    "    custom_api = client.CustomObjectsApi(api_instance)\n",
    "\n",
    "    try:\n",
    "        api_response = custom_api.create_namespaced_custom_object(\n",
    "            group=\"serving.kserve.io\",\n",
    "            version=\"v1beta1\",\n",
    "            plural=\"inferenceservices\",\n",
    "            namespace=namespace,\n",
    "            body=yaml.safe_load(manifest),\n",
    "        )\n",
    "        print(\"Custom Resource applied successfully.\")\n",
    "        print(api_response)\n",
    "    except client.rest.ApiException as e:\n",
    "        print(f\"Failed to apply Custom Resource: {e}\")"
   ]
  },
  {
   "cell_type": "code",
   "execution_count": 12,
   "id": "ca87b399-ccae-4ebe-b919-8ff723edf2fb",
   "metadata": {},
   "outputs": [
    {
     "name": "stdout",
     "output_type": "stream",
     "text": [
      "Custom Resource applied successfully.\n",
      "{'apiVersion': 'serving.kserve.io/v1beta1', 'kind': 'InferenceService', 'metadata': {'annotations': {'serving.kserve.io/deploymentMode': 'RawDeployment'}, 'creationTimestamp': '2023-10-23T12:45:54Z', 'generation': 1, 'managedFields': [{'apiVersion': 'serving.kserve.io/v1beta1', 'fieldsType': 'FieldsV1', 'fieldsV1': {'f:spec': {'.': {}, 'f:predictor': {'.': {}, 'f:serviceAccountName': {}, 'f:sklearn': {'.': {}, 'f:storageUri': {}}}}}, 'manager': 'OpenAPI-Generator', 'operation': 'Update', 'time': '2023-10-23T12:45:53Z'}], 'name': 'wine-regressor', 'namespace': 'user123', 'resourceVersion': '47115', 'uid': 'f40133b7-9b51-4e01-9d3d-ba534af93922'}, 'spec': {'predictor': {'model': {'modelFormat': {'name': 'sklearn'}, 'name': '', 'resources': {}, 'storageUri': 's3://mlflow/1/d4087e8103db4f9ba82fd81ec164507e/artifacts/model'}, 'serviceAccountName': 'kserve-controller-s3'}}}\n"
     ]
    }
   ],
   "source": [
    "KSERVE_INFERENCE_NAME = \"wine-regressor\"\n",
    "deploy(kserve_inference_name=KSERVE_INFERENCE_NAME, model_uri=model_uri)"
   ]
  },
  {
   "cell_type": "markdown",
   "id": "0e832780-4dda-403b-b851-0000d4247f79",
   "metadata": {},
   "source": [
    "### Wait for active InferenceService"
   ]
  },
  {
   "cell_type": "code",
   "execution_count": 13,
   "id": "2c0a2bf9-6b1d-4203-bee1-7b7205016991",
   "metadata": {},
   "outputs": [],
   "source": [
    "with open(\"/var/run/secrets/kubernetes.io/serviceaccount/namespace\", \"r\") as f:\n",
    "    NAMESPACE = f.read().strip()\n",
    "\n",
    "k8s_config.load_incluster_config()\n",
    "api_instance = k8s_client.ApiClient()\n",
    "custom_api = k8s_client.CustomObjectsApi(api_instance)"
   ]
  },
  {
   "cell_type": "code",
   "execution_count": 14,
   "id": "10ba5d39-47d3-4cf4-a072-01aabb4e7d52",
   "metadata": {},
   "outputs": [],
   "source": [
    "def get_kserve_inference_service(name, namespace):\n",
    "    \"\"\"Get Kserve InferenceService by name.\"\"\"\n",
    "    return custom_api.get_namespaced_custom_object(\n",
    "        group=\"serving.kserve.io\",\n",
    "        version=\"v1beta1\",\n",
    "        plural=\"inferenceservices\",\n",
    "        namespace=namespace,\n",
    "        name=name,\n",
    "    )\n",
    "\n",
    "def delete_kserve_inference_service(name, namespace):\n",
    "    \"\"\"Delete Kserve InferenceService by name.\"\"\"\n",
    "    return custom_api.delete_namespaced_custom_object(\n",
    "        group=\"serving.kserve.io\",\n",
    "        version=\"v1beta1\",\n",
    "        plural=\"inferenceservices\",\n",
    "        namespace=namespace,\n",
    "        name=name,\n",
    "    )"
   ]
  },
  {
   "cell_type": "code",
   "execution_count": 15,
   "id": "7bfe6f76-77f7-45f0-828f-580b8060915b",
   "metadata": {},
   "outputs": [],
   "source": [
    "@retry(\n",
    "    wait=wait_exponential(multiplier=2, min=1, max=10),\n",
    "    stop=stop_after_attempt(50),\n",
    "    reraise=True,\n",
    ")\n",
    "def assert_kserve_deployment_available(kserve_inference_name, namespace):\n",
    "    \"\"\"Wait for the SeldonDeployment to become available.\"\"\"\n",
    "    try:\n",
    "        sd = get_kserve_inference_service(kserve_inference_name, namespace)\n",
    "    except ApiException as err:\n",
    "        assert err.status != 404, f\"Kserve InferenceService {kserve_inference_name} not found!\"\n",
    "        raise\n",
    "    status = sd.get(\"status\")\n",
    "    assert status is not None, \"Kserve InferenceService status not yet available!\"\n",
    "    assert status.get(\"conditions\")[-1].get(\"status\") == \"True\""
   ]
  },
  {
   "cell_type": "code",
   "execution_count": 16,
   "id": "af49a152-2bbf-4198-b865-07a76e447458",
   "metadata": {},
   "outputs": [],
   "source": [
    "assert_kserve_deployment_available(KSERVE_INFERENCE_NAME, NAMESPACE)"
   ]
  },
  {
   "cell_type": "markdown",
   "id": "37c35277-c304-494d-9efd-6216cfc31192",
   "metadata": {},
   "source": [
    "### Run Prediction"
   ]
  },
  {
   "cell_type": "code",
   "execution_count": 17,
   "id": "eaba9e6b-d636-4ce8-a40c-57b5e9b5ecc5",
   "metadata": {},
   "outputs": [
    {
     "name": "stdout",
     "output_type": "stream",
     "text": [
      "Kserve InferenceService URL: http://wine-regressor.user123.svc.cluster.local\n"
     ]
    }
   ],
   "source": [
    "sd = get_kserve_inference_service(KSERVE_INFERENCE_NAME, NAMESPACE)\n",
    "url = sd['status']['address']['url']\n",
    "print(\"Kserve InferenceService URL:\", url)"
   ]
  },
  {
   "cell_type": "code",
   "execution_count": 18,
   "id": "fde2704c-c9f7-4c55-bc5a-f8c0f00bd6a1",
   "metadata": {},
   "outputs": [
    {
     "name": "stdout",
     "output_type": "stream",
     "text": [
      "{\"predictions\":[5.743164652981532]}\n"
     ]
    }
   ],
   "source": [
    "inference_input = {\n",
    "    \"instances\": [\n",
    "        [10.1, 0.37, 0.34, 2.4, 0.085, 5.0, 17.0, 0.99683, 3.17, 0.65, 10.6]\n",
    "    ]\n",
    "}\n",
    "response = requests.post(f\"http://{KSERVE_INFERENCE_NAME}-predictor-default.user123.svc.cluster.local/v1/models/{KSERVE_INFERENCE_NAME}:predict\", json=inference_input)\n",
    "print(response.text)"
   ]
  },
  {
   "cell_type": "code",
   "execution_count": 19,
   "id": "7244bcfd-c427-4cbf-8ec0-fb13b57aac13",
   "metadata": {},
   "outputs": [],
   "source": [
    "res = response.json()\n",
    "# verify that the predictions are as expected\n",
    "assert res.get(\"predictions\"), \"Failed to get predictions!\"\n",
    "predictions = res[\"predictions\"]\n",
    "assert len(predictions) == 1, \"Predictions not in the expected format!\""
   ]
  },
  {
   "cell_type": "code",
   "execution_count": null,
   "id": "c19b517f-39ad-486c-8282-f0814fff56e6",
   "metadata": {},
   "outputs": [],
   "source": [
    "# 5.737976780306664"
   ]
  }
 ],
 "metadata": {
  "kernelspec": {
   "display_name": "Python 3 (ipykernel)",
   "language": "python",
   "name": "python3"
  },
  "language_info": {
   "codemirror_mode": {
    "name": "ipython",
    "version": 3
   },
   "file_extension": ".py",
   "mimetype": "text/x-python",
   "name": "python",
   "nbconvert_exporter": "python",
   "pygments_lexer": "ipython3",
   "version": "3.8.10"
  }
 },
 "nbformat": 4,
 "nbformat_minor": 5
}
