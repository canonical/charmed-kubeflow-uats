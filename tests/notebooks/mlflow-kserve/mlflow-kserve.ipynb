{
 "cells": [
  {
   "cell_type": "markdown",
   "id": "952fd139-d78e-40fc-9c3b-5b03890c1968",
   "metadata": {},
   "source": [
    "# MLflow KServe integration test\n",
    "To properly run this notebook you need to deploy MLflow with Kubeflow according to [these](https://documentation.ubuntu.com/charmed-mlflow/en/latest/tutorial/mlflow-kubeflow/) instructions. After that you need to add three extra relations (for k-serve integration). \n",
    "\n",
    "```\n",
    "juju relate kserve-controller:service-accounts resource-dispatcher:service-accounts\n",
    "juju relate kserve-controller:secrets resource-dispatcher:secrets\n",
    "juju relate kserve-controller mlflow-minio\n",
    "``` \n",
    "\n",
    "Steps:\n",
    "- start experiment \n",
    "- train model\n",
    "- save artifact to MLflow\n",
    "- create KServe inference service with the artifact\n",
    "- make sure service is up\n",
    "- run prediction\n",
    "- remove the inference service"
   ]
  },
  {
   "cell_type": "markdown",
   "id": "6ca29afc-3dcf-47be-a361-13475d105562",
   "metadata": {},
   "source": [
    "## Setup"
   ]
  },
  {
   "cell_type": "code",
   "execution_count": null,
   "id": "f74fb1f7-f776-4559-94ed-e9c7aa0af901",
   "metadata": {},
   "outputs": [],
   "source": [
    "# pin the mlflow client to match the version of the deployed MLflow server\n",
    "!pip install minio mlflow==2.1.1 boto3 tenacity -q"
   ]
  },
  {
   "cell_type": "markdown",
   "id": "3094d524-724f-4271-864f-19260348643c",
   "metadata": {},
   "source": [
    "### Import required packages"
   ]
  },
  {
   "cell_type": "code",
   "execution_count": 2,
   "id": "fbc9d89d-66dd-4b9a-830b-35767e8c180e",
   "metadata": {},
   "outputs": [],
   "source": [
    "import mlflow\n",
    "import numpy as np\n",
    "import pandas as pd\n",
    "import requests\n",
    "\n",
    "from kubernetes import client as k8s_client, config as k8s_config\n",
    "from mlflow.models.signature import infer_signature\n",
    "from sklearn.metrics import mean_squared_error, mean_absolute_error, r2_score\n",
    "from sklearn.model_selection import train_test_split\n",
    "from sklearn.linear_model import ElasticNet\n",
    "from sklearn.model_selection import train_test_split\n",
    "from tenacity import retry, stop_after_attempt, wait_exponential"
   ]
  },
  {
   "cell_type": "markdown",
   "id": "5c7d6151-dfdc-4e2c-aaa5-580aec88a1a9",
   "metadata": {},
   "source": [
    "## Download Data"
   ]
  },
  {
   "cell_type": "code",
   "execution_count": 3,
   "id": "9abe576f-6124-4346-90ec-30ec727c5f12",
   "metadata": {},
   "outputs": [
    {
     "data": {
      "text/html": [
       "<div>\n",
       "<style scoped>\n",
       "    .dataframe tbody tr th:only-of-type {\n",
       "        vertical-align: middle;\n",
       "    }\n",
       "\n",
       "    .dataframe tbody tr th {\n",
       "        vertical-align: top;\n",
       "    }\n",
       "\n",
       "    .dataframe thead th {\n",
       "        text-align: right;\n",
       "    }\n",
       "</style>\n",
       "<table border=\"1\" class=\"dataframe\">\n",
       "  <thead>\n",
       "    <tr style=\"text-align: right;\">\n",
       "      <th></th>\n",
       "      <th>fixed acidity</th>\n",
       "      <th>volatile acidity</th>\n",
       "      <th>citric acid</th>\n",
       "      <th>residual sugar</th>\n",
       "      <th>chlorides</th>\n",
       "      <th>free sulfur dioxide</th>\n",
       "      <th>total sulfur dioxide</th>\n",
       "      <th>density</th>\n",
       "      <th>pH</th>\n",
       "      <th>sulphates</th>\n",
       "      <th>alcohol</th>\n",
       "      <th>quality</th>\n",
       "    </tr>\n",
       "  </thead>\n",
       "  <tbody>\n",
       "    <tr>\n",
       "      <th>0</th>\n",
       "      <td>7.4</td>\n",
       "      <td>0.70</td>\n",
       "      <td>0.00</td>\n",
       "      <td>1.9</td>\n",
       "      <td>0.076</td>\n",
       "      <td>11.0</td>\n",
       "      <td>34.0</td>\n",
       "      <td>0.9978</td>\n",
       "      <td>3.51</td>\n",
       "      <td>0.56</td>\n",
       "      <td>9.4</td>\n",
       "      <td>5</td>\n",
       "    </tr>\n",
       "    <tr>\n",
       "      <th>1</th>\n",
       "      <td>7.8</td>\n",
       "      <td>0.88</td>\n",
       "      <td>0.00</td>\n",
       "      <td>2.6</td>\n",
       "      <td>0.098</td>\n",
       "      <td>25.0</td>\n",
       "      <td>67.0</td>\n",
       "      <td>0.9968</td>\n",
       "      <td>3.20</td>\n",
       "      <td>0.68</td>\n",
       "      <td>9.8</td>\n",
       "      <td>5</td>\n",
       "    </tr>\n",
       "    <tr>\n",
       "      <th>2</th>\n",
       "      <td>7.8</td>\n",
       "      <td>0.76</td>\n",
       "      <td>0.04</td>\n",
       "      <td>2.3</td>\n",
       "      <td>0.092</td>\n",
       "      <td>15.0</td>\n",
       "      <td>54.0</td>\n",
       "      <td>0.9970</td>\n",
       "      <td>3.26</td>\n",
       "      <td>0.65</td>\n",
       "      <td>9.8</td>\n",
       "      <td>5</td>\n",
       "    </tr>\n",
       "    <tr>\n",
       "      <th>3</th>\n",
       "      <td>11.2</td>\n",
       "      <td>0.28</td>\n",
       "      <td>0.56</td>\n",
       "      <td>1.9</td>\n",
       "      <td>0.075</td>\n",
       "      <td>17.0</td>\n",
       "      <td>60.0</td>\n",
       "      <td>0.9980</td>\n",
       "      <td>3.16</td>\n",
       "      <td>0.58</td>\n",
       "      <td>9.8</td>\n",
       "      <td>6</td>\n",
       "    </tr>\n",
       "    <tr>\n",
       "      <th>4</th>\n",
       "      <td>7.4</td>\n",
       "      <td>0.70</td>\n",
       "      <td>0.00</td>\n",
       "      <td>1.9</td>\n",
       "      <td>0.076</td>\n",
       "      <td>11.0</td>\n",
       "      <td>34.0</td>\n",
       "      <td>0.9978</td>\n",
       "      <td>3.51</td>\n",
       "      <td>0.56</td>\n",
       "      <td>9.4</td>\n",
       "      <td>5</td>\n",
       "    </tr>\n",
       "  </tbody>\n",
       "</table>\n",
       "</div>"
      ],
      "text/plain": [
       "   fixed acidity  volatile acidity  citric acid  residual sugar  chlorides  \\\n",
       "0            7.4              0.70         0.00             1.9      0.076   \n",
       "1            7.8              0.88         0.00             2.6      0.098   \n",
       "2            7.8              0.76         0.04             2.3      0.092   \n",
       "3           11.2              0.28         0.56             1.9      0.075   \n",
       "4            7.4              0.70         0.00             1.9      0.076   \n",
       "\n",
       "   free sulfur dioxide  total sulfur dioxide  density    pH  sulphates  \\\n",
       "0                 11.0                  34.0   0.9978  3.51       0.56   \n",
       "1                 25.0                  67.0   0.9968  3.20       0.68   \n",
       "2                 15.0                  54.0   0.9970  3.26       0.65   \n",
       "3                 17.0                  60.0   0.9980  3.16       0.58   \n",
       "4                 11.0                  34.0   0.9978  3.51       0.56   \n",
       "\n",
       "   alcohol  quality  \n",
       "0      9.4        5  \n",
       "1      9.8        5  \n",
       "2      9.8        5  \n",
       "3      9.8        6  \n",
       "4      9.4        5  "
      ]
     },
     "execution_count": 3,
     "metadata": {},
     "output_type": "execute_result"
    }
   ],
   "source": [
    "data = pd.read_csv(\"http://archive.ics.uci.edu/ml/machine-learning-databases/wine-quality/winequality-red.csv\", sep=\";\")\n",
    "data.head()"
   ]
  },
  {
   "cell_type": "code",
   "execution_count": 4,
   "id": "5aeda990-8f15-4278-9b07-f67396af8f9a",
   "metadata": {},
   "outputs": [
    {
     "data": {
      "text/plain": [
       "(1599, 12)"
      ]
     },
     "execution_count": 4,
     "metadata": {},
     "output_type": "execute_result"
    }
   ],
   "source": [
    "data.shape"
   ]
  },
  {
   "cell_type": "markdown",
   "id": "caa9d2cb-ddff-4a9d-9a32-114b20de2ddb",
   "metadata": {},
   "source": [
    "## Preprocess Data"
   ]
  },
  {
   "cell_type": "code",
   "execution_count": 5,
   "id": "35a436e0-cf31-402e-b06d-056adb5eb2e1",
   "metadata": {},
   "outputs": [],
   "source": [
    "TARGET_COLUMN = \"quality\"\n",
    "train, test = train_test_split(data)\n",
    "\n",
    "train_x = train.drop([TARGET_COLUMN], axis=1)\n",
    "test_x = test.drop([TARGET_COLUMN], axis=1)\n",
    "train_y = train[[TARGET_COLUMN]]\n",
    "test_y = test[[TARGET_COLUMN]]"
   ]
  },
  {
   "cell_type": "markdown",
   "id": "cc726740-f603-4eea-ae31-f845e4b15f08",
   "metadata": {},
   "source": [
    "## Create MLflow experiment"
   ]
  },
  {
   "cell_type": "code",
   "execution_count": 6,
   "id": "6a707ec7-958d-46ad-9761-9643e75db972",
   "metadata": {},
   "outputs": [],
   "source": [
    "wine_experiment_name = \"My Wine Experiment Kserve\"\n",
    "experiment = mlflow.get_experiment_by_name(wine_experiment_name)\n",
    "experiment_id = (\n",
    "    mlflow.create_experiment(name=wine_experiment_name)\n",
    "    if experiment is None\n",
    "    else experiment.experiment_id\n",
    ")"
   ]
  },
  {
   "cell_type": "code",
   "execution_count": 7,
   "id": "b1681488-4301-47b4-81cb-1d0d586ba2fa",
   "metadata": {},
   "outputs": [],
   "source": [
    "# check that the experiment was created successfully\n",
    "assert mlflow.get_experiment(experiment_id).name == wine_experiment_name, f\"Failed to create experiment {wine_experiment_name}!\""
   ]
  },
  {
   "cell_type": "markdown",
   "id": "3b8aca90-33ed-42b0-bdfe-5c44029681c6",
   "metadata": {},
   "source": [
    "## Train and store model"
   ]
  },
  {
   "cell_type": "code",
   "execution_count": 8,
   "id": "f2c152c1-52ab-4c24-9703-e0016b8b0e7d",
   "metadata": {},
   "outputs": [],
   "source": [
    "def experiment(alpha, l1_ratio):\n",
    "    mlflow.sklearn.autolog()\n",
    "    with mlflow.start_run(run_name='wine_models', experiment_id=experiment_id) as run:\n",
    "            mlflow.set_tag(\"author\", \"kf-testing\")\n",
    "            lr = ElasticNet(alpha=alpha, l1_ratio=l1_ratio, random_state=42)\n",
    "            lr.fit(train_x, train_y)\n",
    "\n",
    "            pred_y = lr.predict(test_x)\n",
    "            mlflow.log_metric(\"rmse\", np.sqrt(mean_squared_error(test_y, pred_y)))\n",
    "            mlflow.log_metric(\"r2\", r2_score(test_y, pred_y))\n",
    "            mlflow.log_metric(\"mae\", mean_absolute_error(test_y, pred_y))\n",
    "\n",
    "            signature = infer_signature(test_x, pred_y)\n",
    "            result = mlflow.sklearn.log_model(lr, \"model\", registered_model_name=\"wine-elasticnet\", signature=signature)\n",
    "            model_uri = f\"{mlflow.get_artifact_uri()}/{result.artifact_path}\"\n",
    "    \n",
    "    return run, model_uri"
   ]
  },
  {
   "cell_type": "code",
   "execution_count": 9,
   "id": "70b3db8f-e153-4de9-88d5-fb374eb7600c",
   "metadata": {},
   "outputs": [
    {
     "name": "stderr",
     "output_type": "stream",
     "text": [
      "2023/10/26 10:48:07 WARNING mlflow.utils.autologging_utils: MLflow autologging encountered a warning: \"/opt/conda/lib/python3.8/site-packages/_distutils_hack/__init__.py:33: UserWarning: Setuptools is replacing distutils.\"\n",
      "Successfully registered model 'wine-elasticnet'.\n",
      "2023/10/26 10:48:09 INFO mlflow.tracking._model_registry.client: Waiting up to 300 seconds for model version to finish creation.                     Model name: wine-elasticnet, version 1\n",
      "Created version '1' of model 'wine-elasticnet'.\n"
     ]
    }
   ],
   "source": [
    "run, model_uri = experiment(0.5, 0.5)"
   ]
  },
  {
   "cell_type": "code",
   "execution_count": 10,
   "id": "cedb1a32-3975-4d48-958c-dd5a9f324da1",
   "metadata": {},
   "outputs": [
    {
     "data": {
      "text/plain": [
       "'s3://mlflow/1/07ee9d6fc1ce46f096ea38341bdf94e4/artifacts/model'"
      ]
     },
     "execution_count": 10,
     "metadata": {},
     "output_type": "execute_result"
    }
   ],
   "source": [
    "model_uri"
   ]
  },
  {
   "cell_type": "markdown",
   "id": "f70c9cce-63d6-4aa3-aeed-9285f72da4ed",
   "metadata": {},
   "source": [
    "## Deploy Kserve's InferenceService"
   ]
  },
  {
   "cell_type": "code",
   "execution_count": null,
   "id": "16b64ba4-e103-4a27-9e62-fdc4b07768f6",
   "metadata": {},
   "outputs": [],
   "source": [
    "!pip install kserve kubernetes -q"
   ]
  },
  {
   "cell_type": "code",
   "execution_count": 12,
   "id": "b91aa039-e194-4e23-9e72-2133abd35a26",
   "metadata": {},
   "outputs": [],
   "source": [
    "from kubernetes.client import V1ObjectMeta\n",
    "from kubernetes import client as k8s_client, config as k8s_config\n",
    "from kserve import (\n",
    "    constants,\n",
    "    KServeClient,\n",
    "    V1beta1InferenceService,\n",
    "    V1beta1InferenceServiceSpec,\n",
    "    V1beta1PredictorSpec,\n",
    "    V1beta1SKLearnSpec,\n",
    ")"
   ]
  },
  {
   "cell_type": "code",
   "execution_count": 13,
   "id": "d7942a65-2852-4f3f-8572-cc080918d6d0",
   "metadata": {},
   "outputs": [],
   "source": [
    "ISVC_NAME = \"wine-regressor3\"\n",
    "\n",
    "isvc = V1beta1InferenceService(\n",
    "    api_version=constants.KSERVE_V1BETA1,\n",
    "    kind=constants.KSERVE_KIND,\n",
    "    metadata=V1ObjectMeta(\n",
    "        name=ISVC_NAME,\n",
    "        annotations={\"sidecar.istio.io/inject\": \"false\"},\n",
    "    ),\n",
    "    spec=V1beta1InferenceServiceSpec(\n",
    "        predictor=V1beta1PredictorSpec(\n",
    "            service_account_name=\"kserve-controller-s3\",\n",
    "            sklearn=V1beta1SKLearnSpec(\n",
    "                storage_uri=model_uri\n",
    "            )\n",
    "        )\n",
    "    )\n",
    ")"
   ]
  },
  {
   "cell_type": "code",
   "execution_count": 14,
   "id": "c8cf212a-868c-486f-9060-b964f9b13d56",
   "metadata": {},
   "outputs": [],
   "source": [
    "client = KServeClient()\n",
    "client.create(isvc)\n",
    "\n",
    "@retry(\n",
    "    wait=wait_exponential(multiplier=2, min=1, max=10),\n",
    "    stop=stop_after_attempt(30),\n",
    "    reraise=True,\n",
    ")\n",
    "def assert_isvc_created(client, isvc_name):\n",
    "    \"\"\"Wait for the Inference Service to be created successfully.\"\"\"\n",
    "    assert client.is_isvc_ready(ISVC_NAME), f\"Failed to create Inference Service {isvc_name}.\"\n",
    "\n",
    "assert_isvc_created(client, ISVC_NAME)"
   ]
  },
  {
   "cell_type": "markdown",
   "id": "07ec056f-36b8-49d5-9d88-10c2f409f978",
   "metadata": {},
   "source": [
    "## Run Prediction"
   ]
  },
  {
   "cell_type": "code",
   "execution_count": 15,
   "id": "85fed413-5151-43a6-884c-fb2513506c63",
   "metadata": {},
   "outputs": [
    {
     "name": "stdout",
     "output_type": "stream",
     "text": [
      "Inference URL: http://wine-regressor3.user123.svc.cluster.local\n"
     ]
    }
   ],
   "source": [
    "isvc_resp = client.get(ISVC_NAME)\n",
    "isvc_url = isvc_resp['status']['address']['url']\n",
    "print(\"Inference URL:\", isvc_url)"
   ]
  },
  {
   "cell_type": "code",
   "execution_count": 16,
   "id": "7117d541-e410-4de1-b702-bc616ae1cce6",
   "metadata": {
    "tags": []
   },
   "outputs": [
    {
     "name": "stdout",
     "output_type": "stream",
     "text": [
      "{\"predictions\":[5.7449884672186515]}\n"
     ]
    }
   ],
   "source": [
    "inference_input = {\n",
    "    \"instances\": [\n",
    "        [10.1, 0.37, 0.34, 2.4, 0.085, 5.0, 17.0, 0.99683, 3.17, 0.65, 10.6]\n",
    "    ]\n",
    "}\n",
    "response = requests.post(f\"{isvc_url}/v1/models/{ISVC_NAME}:predict\", json=inference_input)\n",
    "print(response.text)"
   ]
  },
  {
   "cell_type": "markdown",
   "id": "32dcb101-0fd1-4b8b-9f03-26e4361a86ca",
   "metadata": {},
   "source": [
    "## Delete Inference Service"
   ]
  },
  {
   "cell_type": "code",
   "execution_count": 17,
   "id": "5b3debed-7eaf-4b9f-b7f3-1d6ed120817e",
   "metadata": {},
   "outputs": [],
   "source": [
    "client.delete(ISVC_NAME);"
   ]
  },
  {
   "cell_type": "code",
   "execution_count": 18,
   "id": "1efee9c1-2f1d-41e9-bffa-26dab1c5cb54",
   "metadata": {},
   "outputs": [],
   "source": [
    "@retry(\n",
    "    wait=wait_exponential(multiplier=2, min=1, max=10),\n",
    "    stop=stop_after_attempt(30),\n",
    "    reraise=True,\n",
    ")\n",
    "def assert_isvc_deleted(client, isvc_name):\n",
    "    \"\"\"Wait for the Inference Service to be deleted.\"\"\"\n",
    "    try:\n",
    "        # try fetching the ISVC to verify it was deleted successfully\n",
    "        isvc = client.get(isvc_name)\n",
    "        assert not isvc, f\"Failed to delete Inference Service {isvc_name}!\"\n",
    "    except RuntimeError as err:\n",
    "        assert \"Not Found\" in str(err), f\"Caught unexpected exception: {err}\""
   ]
  },
  {
   "cell_type": "code",
   "execution_count": 19,
   "id": "dc79c606-aafc-4ad2-bff7-d9d4cb40045e",
   "metadata": {},
   "outputs": [],
   "source": [
    "assert_isvc_deleted(client, ISVC_NAME)"
   ]
  },
  {
   "cell_type": "code",
   "execution_count": null,
   "id": "5e430879-5754-4191-b343-9ca00a005b1f",
   "metadata": {},
   "outputs": [],
   "source": []
  }
 ],
 "metadata": {
  "kernelspec": {
   "display_name": "Python 3 (ipykernel)",
   "language": "python",
   "name": "python3"
  },
  "language_info": {
   "codemirror_mode": {
    "name": "ipython",
    "version": 3
   },
   "file_extension": ".py",
   "mimetype": "text/x-python",
   "name": "python",
   "nbconvert_exporter": "python",
   "pygments_lexer": "ipython3",
   "version": "3.8.0"
  }
 },
 "nbformat": 4,
 "nbformat_minor": 5
}
