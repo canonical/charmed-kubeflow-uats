{
 "cells": [
  {
   "cell_type": "markdown",
   "id": "e89bf654",
   "metadata": {},
   "source": [
    "# E2E scenario for Wine dataset on KFP\n",
    "\n",
    "Steps:\n",
    "- download dataset\n",
    "- clean/preprocess data\n",
    "- perform training / hyper-parameter tuning with results in MLFlow + MinIO\n",
    "- serve with Seldon\n",
    "- perform inference\n",
    "\n",
    "Artifacts:\n",
    "- raw data, preprocessed\n",
    "- model per experiment\n",
    "- experiment metadata and results"
   ]
  },
  {
   "cell_type": "markdown",
   "id": "305893d4-1f6b-4224-a932-94092616afd9",
   "metadata": {},
   "source": [
    "## Tested with\n",
    "\n",
    "This notebook has been tested with the following core component versions:\n",
    "\n",
    "|                              |     **Charm**     | **Client** |                            **Image**                           |\n",
    "|:----------------------------:|:-----------------:|:----------:|:--------------------------------------------------------------:|\n",
    "| **Kubeflow Pipelines (KFP)** |      2.0/edge     |   1.8.22   |           gcr.io/ml-pipeline/api-server:2.0.0-alpha.7          |\n",
    "|          **MLFlow**          | latest/edge (2.1) |    2.1.1   |             docker.io/ubuntu/mlflow:2.1.1_1.0-22.04            |\n",
    "|           **MinIO**          |    ckf-1.7/edge   |    6.0.2   |            minio/minio:RELEASE.2021-09-03T03-56-13Z            |\n",
    "|          **Seldon**          |     1.15/edge     |     N/A    | docker.io/charmedkubeflow/seldon-core-operator:v1.15.0_22.04_1 |"
   ]
  },
  {
   "cell_type": "markdown",
   "id": "3ce43dce-51b6-4d90-86d2-be1dfafff9a8",
   "metadata": {},
   "source": [
    "## Setup"
   ]
  },
  {
   "cell_type": "code",
   "execution_count": 9,
   "id": "6e34b594",
   "metadata": {
    "tags": [
     "pytest-skip"
    ]
   },
   "outputs": [
    {
     "name": "stdout",
     "output_type": "stream",
     "text": [
      "\u001b[31mERROR: pip's dependency resolver does not currently take into account all the packages that are installed. This behaviour is the source of the following dependency conflicts.\n",
      "jupyterlab-server 2.21.0 requires jsonschema>=4.17.3, but you have jsonschema 3.2.0 which is incompatible.\u001b[0m\u001b[31m\n",
      "\u001b[0m"
     ]
    }
   ],
   "source": [
    "# pin kfp to the latest <2.0 version to ensure compatibility\n",
    "# with the KFP API server version deployed in CKF 1.7\n",
    "# pin the mlflow client to match the version of the deployed MLflow server\n",
    "# pin scikit-learn to ensure compatibility with the installed mlflow client\n",
    "!pip install boto3 kfp==1.8.22 minio mlflow==2.1.1 numpy pyarrow requests \"scikit-learn<1.2\" tenacity -q"
   ]
  },
  {
   "cell_type": "code",
   "execution_count": 1,
   "id": "89c00ef7-1c5e-4d44-a484-c536a422308e",
   "metadata": {
    "tags": [
     "pytest-skip"
    ]
   },
   "outputs": [],
   "source": [
    "USER=\"kimonas-sotirchos\""
   ]
  },
  {
   "cell_type": "markdown",
   "id": "85e6967b",
   "metadata": {},
   "source": [
    "## Download Data"
   ]
  },
  {
   "cell_type": "code",
   "execution_count": 2,
   "id": "8b5e4a40-8acc-45d0-9b13-86a2b5f27ce0",
   "metadata": {},
   "outputs": [],
   "source": [
    "DATA_URL = \"https://raw.githubusercontent.com/canonical/kubeflow-examples/main/e2e-wine-kfp-mlflow/winequality-red.csv\"\n",
    "DATA_FILE = \"winequality-red.csv\""
   ]
  },
  {
   "cell_type": "code",
   "execution_count": 4,
   "id": "6442ab5f-2c87-49e4-88d3-4a88b3ec1eb9",
   "metadata": {},
   "outputs": [
    {
     "name": "stdout",
     "output_type": "stream",
     "text": [
      "File 'winequality-red.csv' downloaded successfully.\n"
     ]
    }
   ],
   "source": [
    "import requests\n",
    "from urllib import request\n",
    "\n",
    "request.urlretrieve(DATA_URL, DATA_FILE)\n",
    "\n",
    "print(f\"File '{DATA_FILE}' downloaded successfully.\")"
   ]
  },
  {
   "cell_type": "markdown",
   "id": "eee78a75",
   "metadata": {},
   "source": [
    "## Preprocess Data"
   ]
  },
  {
   "cell_type": "code",
   "execution_count": 5,
   "id": "f1053d49",
   "metadata": {},
   "outputs": [
    {
     "data": {
      "text/html": [
       "<div>\n",
       "<style scoped>\n",
       "    .dataframe tbody tr th:only-of-type {\n",
       "        vertical-align: middle;\n",
       "    }\n",
       "\n",
       "    .dataframe tbody tr th {\n",
       "        vertical-align: top;\n",
       "    }\n",
       "\n",
       "    .dataframe thead th {\n",
       "        text-align: right;\n",
       "    }\n",
       "</style>\n",
       "<table border=\"1\" class=\"dataframe\">\n",
       "  <thead>\n",
       "    <tr style=\"text-align: right;\">\n",
       "      <th></th>\n",
       "      <th>fixed acidity</th>\n",
       "      <th>volatile acidity</th>\n",
       "      <th>citric acid</th>\n",
       "      <th>residual sugar</th>\n",
       "      <th>chlorides</th>\n",
       "      <th>free sulfur dioxide</th>\n",
       "      <th>total sulfur dioxide</th>\n",
       "      <th>density</th>\n",
       "      <th>pH</th>\n",
       "      <th>sulphates</th>\n",
       "      <th>alcohol</th>\n",
       "      <th>quality</th>\n",
       "    </tr>\n",
       "  </thead>\n",
       "  <tbody>\n",
       "    <tr>\n",
       "      <th>1594</th>\n",
       "      <td>6.2</td>\n",
       "      <td>0.600</td>\n",
       "      <td>0.08</td>\n",
       "      <td>2.0</td>\n",
       "      <td>0.090</td>\n",
       "      <td>32.0</td>\n",
       "      <td>44.0</td>\n",
       "      <td>0.99490</td>\n",
       "      <td>3.45</td>\n",
       "      <td>0.58</td>\n",
       "      <td>10.5</td>\n",
       "      <td>5</td>\n",
       "    </tr>\n",
       "    <tr>\n",
       "      <th>1595</th>\n",
       "      <td>5.9</td>\n",
       "      <td>0.550</td>\n",
       "      <td>0.10</td>\n",
       "      <td>2.2</td>\n",
       "      <td>0.062</td>\n",
       "      <td>39.0</td>\n",
       "      <td>51.0</td>\n",
       "      <td>0.99512</td>\n",
       "      <td>3.52</td>\n",
       "      <td>0.76</td>\n",
       "      <td>11.2</td>\n",
       "      <td>6</td>\n",
       "    </tr>\n",
       "    <tr>\n",
       "      <th>1596</th>\n",
       "      <td>6.3</td>\n",
       "      <td>0.510</td>\n",
       "      <td>0.13</td>\n",
       "      <td>2.3</td>\n",
       "      <td>0.076</td>\n",
       "      <td>29.0</td>\n",
       "      <td>40.0</td>\n",
       "      <td>0.99574</td>\n",
       "      <td>3.42</td>\n",
       "      <td>0.75</td>\n",
       "      <td>11.0</td>\n",
       "      <td>6</td>\n",
       "    </tr>\n",
       "    <tr>\n",
       "      <th>1597</th>\n",
       "      <td>5.9</td>\n",
       "      <td>0.645</td>\n",
       "      <td>0.12</td>\n",
       "      <td>2.0</td>\n",
       "      <td>0.075</td>\n",
       "      <td>32.0</td>\n",
       "      <td>44.0</td>\n",
       "      <td>0.99547</td>\n",
       "      <td>3.57</td>\n",
       "      <td>0.71</td>\n",
       "      <td>10.2</td>\n",
       "      <td>5</td>\n",
       "    </tr>\n",
       "    <tr>\n",
       "      <th>1598</th>\n",
       "      <td>6.0</td>\n",
       "      <td>0.310</td>\n",
       "      <td>0.47</td>\n",
       "      <td>3.6</td>\n",
       "      <td>0.067</td>\n",
       "      <td>18.0</td>\n",
       "      <td>42.0</td>\n",
       "      <td>0.99549</td>\n",
       "      <td>3.39</td>\n",
       "      <td>0.66</td>\n",
       "      <td>11.0</td>\n",
       "      <td>6</td>\n",
       "    </tr>\n",
       "  </tbody>\n",
       "</table>\n",
       "</div>"
      ],
      "text/plain": [
       "      fixed acidity  volatile acidity  citric acid  residual sugar  chlorides  \\\n",
       "1594            6.2             0.600         0.08             2.0      0.090   \n",
       "1595            5.9             0.550         0.10             2.2      0.062   \n",
       "1596            6.3             0.510         0.13             2.3      0.076   \n",
       "1597            5.9             0.645         0.12             2.0      0.075   \n",
       "1598            6.0             0.310         0.47             3.6      0.067   \n",
       "\n",
       "      free sulfur dioxide  total sulfur dioxide  density    pH  sulphates  \\\n",
       "1594                 32.0                  44.0  0.99490  3.45       0.58   \n",
       "1595                 39.0                  51.0  0.99512  3.52       0.76   \n",
       "1596                 29.0                  40.0  0.99574  3.42       0.75   \n",
       "1597                 32.0                  44.0  0.99547  3.57       0.71   \n",
       "1598                 18.0                  42.0  0.99549  3.39       0.66   \n",
       "\n",
       "      alcohol  quality  \n",
       "1594     10.5        5  \n",
       "1595     11.2        6  \n",
       "1596     11.0        6  \n",
       "1597     10.2        5  \n",
       "1598     11.0        6  "
      ]
     },
     "execution_count": 5,
     "metadata": {},
     "output_type": "execute_result"
    }
   ],
   "source": [
    "import pandas as pd\n",
    "\n",
    "df = pd.read_csv(DATA_FILE, header=0, sep=\";\")\n",
    "df.tail()"
   ]
  },
  {
   "cell_type": "code",
   "execution_count": 6,
   "id": "32aa008e-151a-4ee8-888c-34e95bcd118c",
   "metadata": {},
   "outputs": [
    {
     "data": {
      "text/html": [
       "<div>\n",
       "<style scoped>\n",
       "    .dataframe tbody tr th:only-of-type {\n",
       "        vertical-align: middle;\n",
       "    }\n",
       "\n",
       "    .dataframe tbody tr th {\n",
       "        vertical-align: top;\n",
       "    }\n",
       "\n",
       "    .dataframe thead th {\n",
       "        text-align: right;\n",
       "    }\n",
       "</style>\n",
       "<table border=\"1\" class=\"dataframe\">\n",
       "  <thead>\n",
       "    <tr style=\"text-align: right;\">\n",
       "      <th></th>\n",
       "      <th>fixed_acidity</th>\n",
       "      <th>volatile_acidity</th>\n",
       "      <th>citric_acid</th>\n",
       "      <th>residual_sugar</th>\n",
       "      <th>chlorides</th>\n",
       "      <th>free_sulfur_dioxide</th>\n",
       "      <th>total_sulfur_dioxide</th>\n",
       "      <th>density</th>\n",
       "      <th>ph</th>\n",
       "      <th>sulphates</th>\n",
       "      <th>alcohol</th>\n",
       "      <th>quality</th>\n",
       "    </tr>\n",
       "  </thead>\n",
       "  <tbody>\n",
       "    <tr>\n",
       "      <th>1594</th>\n",
       "      <td>6.2</td>\n",
       "      <td>0.600</td>\n",
       "      <td>0.08</td>\n",
       "      <td>2.0</td>\n",
       "      <td>0.090</td>\n",
       "      <td>32.0</td>\n",
       "      <td>44.0</td>\n",
       "      <td>0.99490</td>\n",
       "      <td>3.45</td>\n",
       "      <td>0.58</td>\n",
       "      <td>10.5</td>\n",
       "      <td>5</td>\n",
       "    </tr>\n",
       "    <tr>\n",
       "      <th>1595</th>\n",
       "      <td>5.9</td>\n",
       "      <td>0.550</td>\n",
       "      <td>0.10</td>\n",
       "      <td>2.2</td>\n",
       "      <td>0.062</td>\n",
       "      <td>39.0</td>\n",
       "      <td>51.0</td>\n",
       "      <td>0.99512</td>\n",
       "      <td>3.52</td>\n",
       "      <td>0.76</td>\n",
       "      <td>11.2</td>\n",
       "      <td>6</td>\n",
       "    </tr>\n",
       "    <tr>\n",
       "      <th>1596</th>\n",
       "      <td>6.3</td>\n",
       "      <td>0.510</td>\n",
       "      <td>0.13</td>\n",
       "      <td>2.3</td>\n",
       "      <td>0.076</td>\n",
       "      <td>29.0</td>\n",
       "      <td>40.0</td>\n",
       "      <td>0.99574</td>\n",
       "      <td>3.42</td>\n",
       "      <td>0.75</td>\n",
       "      <td>11.0</td>\n",
       "      <td>6</td>\n",
       "    </tr>\n",
       "    <tr>\n",
       "      <th>1597</th>\n",
       "      <td>5.9</td>\n",
       "      <td>0.645</td>\n",
       "      <td>0.12</td>\n",
       "      <td>2.0</td>\n",
       "      <td>0.075</td>\n",
       "      <td>32.0</td>\n",
       "      <td>44.0</td>\n",
       "      <td>0.99547</td>\n",
       "      <td>3.57</td>\n",
       "      <td>0.71</td>\n",
       "      <td>10.2</td>\n",
       "      <td>5</td>\n",
       "    </tr>\n",
       "    <tr>\n",
       "      <th>1598</th>\n",
       "      <td>6.0</td>\n",
       "      <td>0.310</td>\n",
       "      <td>0.47</td>\n",
       "      <td>3.6</td>\n",
       "      <td>0.067</td>\n",
       "      <td>18.0</td>\n",
       "      <td>42.0</td>\n",
       "      <td>0.99549</td>\n",
       "      <td>3.39</td>\n",
       "      <td>0.66</td>\n",
       "      <td>11.0</td>\n",
       "      <td>6</td>\n",
       "    </tr>\n",
       "  </tbody>\n",
       "</table>\n",
       "</div>"
      ],
      "text/plain": [
       "      fixed_acidity  volatile_acidity  citric_acid  residual_sugar  chlorides  \\\n",
       "1594            6.2             0.600         0.08             2.0      0.090   \n",
       "1595            5.9             0.550         0.10             2.2      0.062   \n",
       "1596            6.3             0.510         0.13             2.3      0.076   \n",
       "1597            5.9             0.645         0.12             2.0      0.075   \n",
       "1598            6.0             0.310         0.47             3.6      0.067   \n",
       "\n",
       "      free_sulfur_dioxide  total_sulfur_dioxide  density    ph  sulphates  \\\n",
       "1594                 32.0                  44.0  0.99490  3.45       0.58   \n",
       "1595                 39.0                  51.0  0.99512  3.52       0.76   \n",
       "1596                 29.0                  40.0  0.99574  3.42       0.75   \n",
       "1597                 32.0                  44.0  0.99547  3.57       0.71   \n",
       "1598                 18.0                  42.0  0.99549  3.39       0.66   \n",
       "\n",
       "      alcohol  quality  \n",
       "1594     10.5        5  \n",
       "1595     11.2        6  \n",
       "1596     11.0        6  \n",
       "1597     10.2        5  \n",
       "1598     11.0        6  "
      ]
     },
     "execution_count": 6,
     "metadata": {},
     "output_type": "execute_result"
    }
   ],
   "source": [
    "df.columns = [c.lower().replace(\" \", \"_\") for c in df.columns]\n",
    "df.tail()"
   ]
  },
  {
   "cell_type": "code",
   "execution_count": 7,
   "id": "9252aceb-81c7-4cba-a380-7e68a37df952",
   "metadata": {},
   "outputs": [],
   "source": [
    "# Let's put it all in a function\n",
    "def preprocess(file_path: str, output_file: str):\n",
    "    df = pd.read_csv(file_path, header=0, sep=\";\")\n",
    "    df.columns = [c.lower().replace(\" \", \"_\") for c in df.columns]\n",
    "    df.to_parquet(output_file)"
   ]
  },
  {
   "cell_type": "code",
   "execution_count": 10,
   "id": "9ae06565",
   "metadata": {},
   "outputs": [],
   "source": [
    "# test out our function\n",
    "OUTPUT_PARQUET_FILE = \"preprocessed.parquet\"\n",
    "preprocess(DATA_FILE, OUTPUT_PARQUET_FILE)"
   ]
  },
  {
   "cell_type": "markdown",
   "id": "9e2b5fed",
   "metadata": {},
   "source": [
    "## Train Model"
   ]
  },
  {
   "cell_type": "code",
   "execution_count": 12,
   "id": "6c43576b",
   "metadata": {},
   "outputs": [],
   "source": [
    "import os\n",
    "import pandas as pd\n",
    "\n",
    "from sklearn.linear_model import ElasticNet\n",
    "from sklearn.metrics import classification_report\n",
    "from sklearn.model_selection import train_test_split"
   ]
  },
  {
   "cell_type": "code",
   "execution_count": 14,
   "id": "ec34ce83-896c-4ed7-abf7-13c6e4791f8d",
   "metadata": {},
   "outputs": [],
   "source": [
    "df = pd.read_parquet(OUTPUT_PARQUET_FILE)\n",
    "    \n",
    "# lets split the train/test datasets\n",
    "target_column=\"quality\"\n",
    "train_x, test_x, train_y, test_y = train_test_split(\n",
    "    df.drop(columns=[target_column]),\n",
    "    df[target_column], test_size=.25,\n",
    "    random_state=42, stratify=df[target_column]\n",
    ")"
   ]
  },
  {
   "cell_type": "code",
   "execution_count": 15,
   "id": "6ff036e9-7a40-472e-bb5a-24d015b75d62",
   "metadata": {},
   "outputs": [
    {
     "data": {
      "text/html": [
       "<div>\n",
       "<style scoped>\n",
       "    .dataframe tbody tr th:only-of-type {\n",
       "        vertical-align: middle;\n",
       "    }\n",
       "\n",
       "    .dataframe tbody tr th {\n",
       "        vertical-align: top;\n",
       "    }\n",
       "\n",
       "    .dataframe thead th {\n",
       "        text-align: right;\n",
       "    }\n",
       "</style>\n",
       "<table border=\"1\" class=\"dataframe\">\n",
       "  <thead>\n",
       "    <tr style=\"text-align: right;\">\n",
       "      <th></th>\n",
       "      <th>fixed_acidity</th>\n",
       "      <th>volatile_acidity</th>\n",
       "      <th>citric_acid</th>\n",
       "      <th>residual_sugar</th>\n",
       "      <th>chlorides</th>\n",
       "      <th>free_sulfur_dioxide</th>\n",
       "      <th>total_sulfur_dioxide</th>\n",
       "      <th>density</th>\n",
       "      <th>ph</th>\n",
       "      <th>sulphates</th>\n",
       "      <th>alcohol</th>\n",
       "    </tr>\n",
       "  </thead>\n",
       "  <tbody>\n",
       "    <tr>\n",
       "      <th>980</th>\n",
       "      <td>9.1</td>\n",
       "      <td>0.500</td>\n",
       "      <td>0.30</td>\n",
       "      <td>1.9</td>\n",
       "      <td>0.065</td>\n",
       "      <td>8.0</td>\n",
       "      <td>17.0</td>\n",
       "      <td>0.99774</td>\n",
       "      <td>3.32</td>\n",
       "      <td>0.71</td>\n",
       "      <td>10.5</td>\n",
       "    </tr>\n",
       "    <tr>\n",
       "      <th>507</th>\n",
       "      <td>11.2</td>\n",
       "      <td>0.670</td>\n",
       "      <td>0.55</td>\n",
       "      <td>2.3</td>\n",
       "      <td>0.084</td>\n",
       "      <td>6.0</td>\n",
       "      <td>13.0</td>\n",
       "      <td>1.00000</td>\n",
       "      <td>3.17</td>\n",
       "      <td>0.71</td>\n",
       "      <td>9.5</td>\n",
       "    </tr>\n",
       "    <tr>\n",
       "      <th>1597</th>\n",
       "      <td>5.9</td>\n",
       "      <td>0.645</td>\n",
       "      <td>0.12</td>\n",
       "      <td>2.0</td>\n",
       "      <td>0.075</td>\n",
       "      <td>32.0</td>\n",
       "      <td>44.0</td>\n",
       "      <td>0.99547</td>\n",
       "      <td>3.57</td>\n",
       "      <td>0.71</td>\n",
       "      <td>10.2</td>\n",
       "    </tr>\n",
       "    <tr>\n",
       "      <th>1166</th>\n",
       "      <td>9.9</td>\n",
       "      <td>0.540</td>\n",
       "      <td>0.26</td>\n",
       "      <td>2.0</td>\n",
       "      <td>0.111</td>\n",
       "      <td>7.0</td>\n",
       "      <td>60.0</td>\n",
       "      <td>0.99709</td>\n",
       "      <td>2.94</td>\n",
       "      <td>0.98</td>\n",
       "      <td>10.2</td>\n",
       "    </tr>\n",
       "    <tr>\n",
       "      <th>1326</th>\n",
       "      <td>6.7</td>\n",
       "      <td>0.460</td>\n",
       "      <td>0.24</td>\n",
       "      <td>1.7</td>\n",
       "      <td>0.077</td>\n",
       "      <td>18.0</td>\n",
       "      <td>34.0</td>\n",
       "      <td>0.99480</td>\n",
       "      <td>3.39</td>\n",
       "      <td>0.60</td>\n",
       "      <td>10.6</td>\n",
       "    </tr>\n",
       "  </tbody>\n",
       "</table>\n",
       "</div>"
      ],
      "text/plain": [
       "      fixed_acidity  volatile_acidity  citric_acid  residual_sugar  chlorides  \\\n",
       "980             9.1             0.500         0.30             1.9      0.065   \n",
       "507            11.2             0.670         0.55             2.3      0.084   \n",
       "1597            5.9             0.645         0.12             2.0      0.075   \n",
       "1166            9.9             0.540         0.26             2.0      0.111   \n",
       "1326            6.7             0.460         0.24             1.7      0.077   \n",
       "\n",
       "      free_sulfur_dioxide  total_sulfur_dioxide  density    ph  sulphates  \\\n",
       "980                   8.0                  17.0  0.99774  3.32       0.71   \n",
       "507                   6.0                  13.0  1.00000  3.17       0.71   \n",
       "1597                 32.0                  44.0  0.99547  3.57       0.71   \n",
       "1166                  7.0                  60.0  0.99709  2.94       0.98   \n",
       "1326                 18.0                  34.0  0.99480  3.39       0.60   \n",
       "\n",
       "      alcohol  \n",
       "980      10.5  \n",
       "507       9.5  \n",
       "1597     10.2  \n",
       "1166     10.2  \n",
       "1326     10.6  "
      ]
     },
     "execution_count": 15,
     "metadata": {},
     "output_type": "execute_result"
    }
   ],
   "source": [
    "# Let's visualize the datasets\n",
    "train_x.tail()"
   ]
  },
  {
   "cell_type": "code",
   "execution_count": 16,
   "id": "92ed8d0f-e348-4abb-b86e-debc1375d003",
   "metadata": {},
   "outputs": [
    {
     "data": {
      "text/plain": [
       "980     6\n",
       "507     6\n",
       "1597    5\n",
       "1166    5\n",
       "1326    6\n",
       "Name: quality, dtype: int64"
      ]
     },
     "execution_count": 16,
     "metadata": {},
     "output_type": "execute_result"
    }
   ],
   "source": [
    "train_y.tail()"
   ]
  },
  {
   "cell_type": "code",
   "execution_count": 17,
   "id": "44beeb87-a5ab-4c0f-8d33-b4b5b71b3f79",
   "metadata": {},
   "outputs": [
    {
     "data": {
      "text/plain": [
       "ElasticNet(alpha=0.5, random_state=42)"
      ]
     },
     "execution_count": 17,
     "metadata": {},
     "output_type": "execute_result"
    }
   ],
   "source": [
    "# Train our model, based on ElasticNet\n",
    "# https://scikit-learn.org/stable/modules/generated/sklearn.linear_model.ElasticNet.html\n",
    "lr = ElasticNet(alpha=0.5, l1_ratio=0.5, random_state=42)\n",
    "lr.fit(train_x, train_y)"
   ]
  },
  {
   "cell_type": "code",
   "execution_count": 18,
   "id": "a14a981e-a914-40cf-a9d4-f002450fe8f3",
   "metadata": {},
   "outputs": [
    {
     "data": {
      "text/plain": [
       "array([5.64384332, 5.33518038, 5.3776657 , 5.75525211, 5.63549828,\n",
       "       5.82317551, 5.52714359, 5.53986943, 5.61361854, 5.78970537,\n",
       "       5.57221271, 5.72522354, 5.55212992, 5.58137503, 5.40099386,\n",
       "       5.59967448, 5.63568101, 5.58308066, 5.33051206, 5.72426242,\n",
       "       5.63587221, 5.73609149, 5.71578696, 5.77902862, 5.63160484,\n",
       "       5.65691267, 5.82434131, 5.60469979, 5.86448997, 5.77643135,\n",
       "       5.94299876, 5.64282476, 5.64507859, 5.64635776, 5.86953222,\n",
       "       5.61752546, 5.66372144, 5.55909088, 5.63907016, 5.43194115,\n",
       "       5.81002332, 5.65957084, 5.72312203, 5.673432  , 5.73288507,\n",
       "       5.86448997, 5.6403798 , 5.61722089, 5.65669946, 5.38664534,\n",
       "       5.84962368, 5.35439342, 5.55522296, 5.60235454, 5.54984567,\n",
       "       5.319705  , 5.7437226 , 5.73661773, 5.85973029, 5.8234022 ,\n",
       "       5.62036636, 5.65422402, 5.68825088, 5.57846477, 5.63882648,\n",
       "       5.56204521, 5.63000762, 5.70436581, 5.64781966, 5.65505483,\n",
       "       5.82729564, 5.7934075 , 5.58372028, 5.7979371 , 5.61667258,\n",
       "       5.81164601, 5.78014701, 5.62252882, 5.55369171, 5.29883034,\n",
       "       5.53480518, 5.63592469, 5.73874971, 5.217528  , 5.7022863 ,\n",
       "       5.34151533, 5.66132884, 5.82998428, 5.78853105, 5.79705387,\n",
       "       5.94181096, 5.62645769, 5.62634438, 5.50234005, 5.83605361,\n",
       "       5.62919363, 5.64907688, 5.3074834 , 5.23067172, 5.66927299,\n",
       "       5.68327799, 5.93605968, 5.79339909, 5.63287899, 5.38909037,\n",
       "       5.92335084, 5.51408277, 5.23207273, 5.86547304, 5.91254378,\n",
       "       5.72373963, 5.64895504, 5.64540511, 5.86830553, 5.91947439,\n",
       "       5.76087308, 5.60425143, 5.84426339, 5.41371618, 5.76090355,\n",
       "       5.63287052, 5.81558334, 5.53237703, 5.87840356, 5.74530634,\n",
       "       5.83498764, 5.34848989, 5.83477444, 5.6290075 , 5.65200056,\n",
       "       5.44056881, 5.87928679, 5.76099492, 5.76175631, 5.61008554,\n",
       "       5.68645394, 5.6631123 , 5.49118948, 5.62103645, 5.59357468,\n",
       "       5.69484645, 5.08340365, 5.38018008, 5.59124303, 5.55814682,\n",
       "       5.48638233, 5.70444024, 5.66267742, 5.72447163, 5.3074834 ,\n",
       "       5.58787082, 5.71577354, 5.63137815, 5.95957057, 5.6628382 ,\n",
       "       5.64806328, 5.62371662, 5.69819665, 5.60087075, 5.58685728,\n",
       "       5.64229852, 5.53880347, 5.81392172, 5.63119542, 5.98458731,\n",
       "       5.71706117, 5.66249469, 5.85130731, 5.80456314, 5.7934075 ,\n",
       "       5.71891054, 5.63128679, 5.72415757, 5.69789208, 5.73704414,\n",
       "       5.64540511, 5.60648325, 5.8027662 , 5.82149194, 5.75451266,\n",
       "       5.54398955, 5.89943054, 5.73288507, 5.37178406, 5.77554811,\n",
       "       5.82237518, 5.76186962, 5.6694253 , 5.84324984, 5.21093244,\n",
       "       5.69880579, 5.72312203, 5.76923511, 5.85257801, 5.91468424,\n",
       "       5.68522719, 5.33233942, 5.61890446, 5.55116379, 5.54545992,\n",
       "       5.64385184, 5.63089085, 5.70246903, 5.52796593, 5.82267975,\n",
       "       5.58358991, 5.63587221, 5.41160119, 5.55815529, 5.87516672,\n",
       "       5.65627305, 5.17187174, 5.64534422, 5.50881378, 5.57270001,\n",
       "       5.66244221, 5.71867538, 5.64865047, 5.70961285, 5.63160484,\n",
       "       5.63443226, 5.54431607, 5.57209934, 5.38100243, 5.61063379,\n",
       "       5.71667872, 5.94625754, 5.50326223, 5.8705593 , 5.85133778,\n",
       "       5.76104734, 5.12506663, 5.80703011, 5.76800836, 5.64734082,\n",
       "       5.87675893, 5.63119542, 5.64635776, 5.36414799, 5.79727554,\n",
       "       5.68355209, 5.5866136 , 5.48181391, 5.43625247, 5.67027806,\n",
       "       5.62422587, 5.6546589 , 5.66270784, 5.59830395, 5.6371902 ,\n",
       "       5.80337534, 5.62204152, 5.57295216, 5.7979371 , 5.75650933,\n",
       "       5.82874907, 5.68629316, 5.53480518, 5.61917009, 5.6741071 ,\n",
       "       5.46884791, 5.59806027, 5.99667354, 5.70494453, 5.38334756,\n",
       "       5.7740168 , 5.88723595, 5.76028588, 5.64734082, 5.99728268,\n",
       "       5.6113343 , 5.76963605, 5.35362356, 5.33653397, 5.71915421,\n",
       "       5.39023923, 5.13275863, 5.62482147, 5.58820586, 5.98223366,\n",
       "       5.52718253, 5.85784198, 5.53182879, 5.83150707, 5.60065755,\n",
       "       5.71654334, 5.89643732, 5.23097629, 5.71735727, 5.5733481 ,\n",
       "       5.63958793, 5.73804921, 5.90626125, 5.33367954, 5.82223139,\n",
       "       5.799399  , 5.73545187, 5.62377751, 5.58808402, 5.49068871,\n",
       "       5.66777209, 5.51317753, 5.83105025, 5.68205125, 5.54127891,\n",
       "       5.9675282 , 5.68910364, 5.41655213, 5.28858847, 5.22343654,\n",
       "       5.60245449, 5.55500976, 5.90003968, 5.56986752, 5.61404495,\n",
       "       5.73725734, 5.66384328, 5.78812164, 5.33288332, 5.73383772,\n",
       "       5.71060939, 5.75181054, 5.67272308, 5.41499034, 5.55744631,\n",
       "       5.77432983, 5.40168584, 5.38334756, 5.45312039, 5.77542627,\n",
       "       5.83150707, 5.55379148, 5.77969019, 5.89943054, 5.64973838,\n",
       "       5.88334602, 5.56696568, 5.53050232, 5.77591357, 5.66863343,\n",
       "       5.52681707, 5.65874855, 5.5319118 , 5.5543702 , 5.79247691,\n",
       "       5.77499139, 5.72504928, 5.61727325, 5.41001746, 5.4918545 ,\n",
       "       5.74970056, 5.41196665, 5.6567993 , 5.65682977, 5.80080847,\n",
       "       5.76364456, 5.43748656, 5.65053031, 5.23708456, 5.6333713 ,\n",
       "       5.82937515, 5.61871326, 5.55325677, 5.64385184, 5.57893012,\n",
       "       5.2873093 , 5.61685543, 5.82434131, 5.64297708, 5.49084597,\n",
       "       5.90580443, 5.62179784, 5.66165034, 5.50248384, 5.6425422 ,\n",
       "       5.64544405, 5.80593367, 5.78812164, 5.63916152, 5.48833505,\n",
       "       5.38292962, 5.75411673, 5.70869914, 5.52338898, 5.63706735,\n",
       "       5.65331881, 5.31059005, 5.73911517, 5.63228333, 5.61662523,\n",
       "       5.83529221, 5.60312452, 5.55442263, 5.78070373, 5.27680681,\n",
       "       5.55714174, 5.85423963, 5.45545204, 5.26096592, 5.9322746 ])"
      ]
     },
     "execution_count": 18,
     "metadata": {},
     "output_type": "execute_result"
    }
   ],
   "source": [
    "lr.predict(test_x)"
   ]
  },
  {
   "cell_type": "markdown",
   "id": "aca73771-a082-4011-944c-4727debfece1",
   "metadata": {},
   "source": [
    "## Artifact Tracking"
   ]
  },
  {
   "cell_type": "code",
   "execution_count": 19,
   "id": "6d61fdaa-8e27-41df-953c-aaf1d06bd664",
   "metadata": {},
   "outputs": [],
   "source": [
    "import mlflow\n",
    "\n",
    "RUN_NAME = USER + \"-notebook-elastic-net\"\n",
    "MODEL_DIR = USER + \"-notebook-experimentation-model\"\n",
    "REGISTERED_MODEL = USER + \"-notebook-wine-elasticnet\""
   ]
  },
  {
   "cell_type": "code",
   "execution_count": 21,
   "id": "c3a7378b-cf66-42ba-b212-aea73bd2e5c8",
   "metadata": {},
   "outputs": [
    {
     "name": "stderr",
     "output_type": "stream",
     "text": [
      "Registered model 'kimonas-sotirchos-notebook-wine-elasticnet' already exists. Creating a new version of this model...\n",
      "2023/11/04 11:03:24 INFO mlflow.tracking._model_registry.client: Waiting up to 300 seconds for model version to finish creation.                     Model name: kimonas-sotirchos-notebook-wine-elasticnet, version 3\n"
     ]
    },
    {
     "name": "stdout",
     "output_type": "stream",
     "text": [
      "s3://mlflow/0/e1c0d8a3eb0a44a3be6f598305b69db6/artifacts/kimonas-sotirchos-notebook-experimentation-model\n"
     ]
    },
    {
     "name": "stderr",
     "output_type": "stream",
     "text": [
      "Created version '3' of model 'kimonas-sotirchos-notebook-wine-elasticnet'.\n"
     ]
    }
   ],
   "source": [
    "# Using DEFAULT Experiment\n",
    "# Take a peek in http://18.185.52.103/mlflow/\n",
    "mlflow.sklearn.autolog()\n",
    "with mlflow.start_run(run_name=RUN_NAME) as run:\n",
    "    mlflow.set_tag(\"author\", USER)\n",
    "    \n",
    "    lr = ElasticNet(alpha=0.5, l1_ratio=0.5, random_state=42)\n",
    "    lr.fit(train_x, train_y)\n",
    "    \n",
    "    mlflow.sklearn.log_model(lr, MODEL_DIR, registered_model_name=REGISTERED_MODEL)\n",
    "    print(f\"{run.info.artifact_uri}/{MODEL_DIR}\")"
   ]
  },
  {
   "cell_type": "markdown",
   "id": "c10c6991",
   "metadata": {
    "tags": []
   },
   "source": [
    "## Deploy Model"
   ]
  },
  {
   "cell_type": "code",
   "execution_count": 22,
   "id": "86bdbfa6-fb71-4c7c-87e5-d2193bbd75c8",
   "metadata": {},
   "outputs": [],
   "source": [
    "def deploy(\n",
    "    seldon_deployment_name: str = \"default_seldon_deployment_name\",\n",
    "    seldon_image: str = \"default_seldon_image\",\n",
    "    model_uri: str = \"default_model_uri\",\n",
    "    model_name: str = \"default_model_name\",\n",
    "):\n",
    "    import yaml\n",
    "\n",
    "    from kubernetes import client, config\n",
    "\n",
    "    manifest = \"\"\"\n",
    "apiVersion: machinelearning.seldon.io/v1\n",
    "kind: SeldonDeployment\n",
    "metadata:\n",
    "  name: \"\"\" + seldon_deployment_name + \"\"\"\n",
    "spec:\n",
    "  name: wines\n",
    "  predictors:\n",
    "  - componentSpecs:\n",
    "    - spec:\n",
    "        containers:\n",
    "        - name: classifier\n",
    "          image: \"\"\" + seldon_image + \"\"\"\n",
    "          imagePullPolicy: Always\n",
    "          livenessProbe:\n",
    "            initialDelaySeconds: 80\n",
    "            failureThreshold: 200\n",
    "            periodSeconds: 5\n",
    "            successThreshold: 1\n",
    "            httpGet:\n",
    "              path: /health/ping\n",
    "              port: http\n",
    "              scheme: HTTP\n",
    "          readinessProbe:\n",
    "            initialDelaySeconds: 80\n",
    "            failureThreshold: 200\n",
    "            periodSeconds: 5\n",
    "            successThreshold: 1\n",
    "            httpGet:\n",
    "              path: /health/ping\n",
    "              port: http\n",
    "              scheme: HTTP\n",
    "    graph:\n",
    "      children: []\n",
    "      implementation: MLFLOW_SERVER\n",
    "      modelUri: \"\"\" + model_uri + \"\"\"\n",
    "      envSecretRefName: mlflow-server-seldon-rclone-secret\n",
    "      name: classifier\n",
    "    name: \"\"\" + model_name + \"\"\"\n",
    "    replicas: 1\n",
    "    \"\"\"\n",
    "\n",
    "    with open(\"/var/run/secrets/kubernetes.io/serviceaccount/namespace\", \"r\") as f:\n",
    "        namespace = f.read().strip()\n",
    "\n",
    "    config.load_incluster_config()\n",
    "    api_instance = client.ApiClient()\n",
    "    custom_api = client.CustomObjectsApi(api_instance)\n",
    "\n",
    "    try:\n",
    "        api_response = custom_api.create_namespaced_custom_object(\n",
    "            group=\"machinelearning.seldon.io\",\n",
    "            version=\"v1\",\n",
    "            plural=\"seldondeployments\",\n",
    "            namespace=namespace,\n",
    "            body=yaml.safe_load(manifest),\n",
    "        )\n",
    "        print(\"Custom Resource applied successfully.\")\n",
    "        print(api_response)\n",
    "    except client.rest.ApiException as e:\n",
    "        print(f\"Failed to apply Custom Resource: {e}\")"
   ]
  },
  {
   "cell_type": "code",
   "execution_count": 24,
   "id": "9599d635-f945-476f-a275-ec89eb5b080f",
   "metadata": {},
   "outputs": [],
   "source": [
    "# Let's try to deploy our model\n",
    "SELDON_DEPLOYMENT_NAME = USER + \"notebook-wine\"\n",
    "SELDON_IMAGE = \"seldonio/mlflowserver:1.17.0\"\n",
    "MODEL_NAME = \"wine-model\"\n",
    "\n",
    "run = mlflow.last_active_run()\n",
    "MODEL_URI = f\"{run.info.artifact_uri}/{MODEL_DIR}\""
   ]
  },
  {
   "cell_type": "code",
   "execution_count": 30,
   "id": "43fd4a17",
   "metadata": {},
   "outputs": [
    {
     "name": "stdout",
     "output_type": "stream",
     "text": [
      "Custom Resource applied successfully.\n",
      "{'apiVersion': 'machinelearning.seldon.io/v1', 'kind': 'SeldonDeployment', 'metadata': {'creationTimestamp': '2023-11-04T11:08:12Z', 'generation': 1, 'managedFields': [{'apiVersion': 'machinelearning.seldon.io/v1', 'fieldsType': 'FieldsV1', 'fieldsV1': {'f:spec': {'.': {}, 'f:name': {}, 'f:predictors': {}}}, 'manager': 'OpenAPI-Generator', 'operation': 'Update', 'time': '2023-11-04T11:08:12Z'}], 'name': 'kimonas-sotirchosnotebook-wine', 'namespace': 'admin', 'resourceVersion': '1411313', 'uid': 'e2e389cd-0549-4531-a1cd-1870ebab4f26'}, 'spec': {'name': 'wines', 'predictors': [{'componentSpecs': [{'spec': {'containers': [{'image': 'seldonio/mlflowserver:1.17.0', 'imagePullPolicy': 'Always', 'livenessProbe': {'failureThreshold': 200, 'httpGet': {'path': '/health/ping', 'port': 'http', 'scheme': 'HTTP'}, 'initialDelaySeconds': 80, 'periodSeconds': 5, 'successThreshold': 1}, 'name': 'classifier', 'readinessProbe': {'failureThreshold': 200, 'httpGet': {'path': '/health/ping', 'port': 'http', 'scheme': 'HTTP'}, 'initialDelaySeconds': 80, 'periodSeconds': 5, 'successThreshold': 1}}]}}], 'graph': {'children': [], 'envSecretRefName': 'mlflow-server-seldon-rclone-secret', 'implementation': 'MLFLOW_SERVER', 'modelUri': 's3://mlflow/0/e1c0d8a3eb0a44a3be6f598305b69db6/artifacts/kimonas-sotirchos-notebook-experimentation-model', 'name': 'classifier'}, 'name': 'wine-model', 'replicas': 1}]}}\n"
     ]
    }
   ],
   "source": [
    "deploy(SELDON_DEPLOYMENT_NAME, SELDON_IMAGE, MODEL_URI, MODEL_NAME)"
   ]
  },
  {
   "cell_type": "markdown",
   "id": "e4d89530-36ab-4d23-9b91-3cb36767d3ca",
   "metadata": {},
   "source": [
    "### Setup K8s Client"
   ]
  },
  {
   "cell_type": "code",
   "execution_count": 31,
   "id": "e0f37c62-fc3d-4279-a698-6b3dca50f07b",
   "metadata": {},
   "outputs": [],
   "source": [
    "from kubernetes import client as k8s_client, config as k8s_config\n",
    "from kubernetes.client.exceptions import ApiException\n",
    "\n",
    "with open(\"/var/run/secrets/kubernetes.io/serviceaccount/namespace\", \"r\") as f:\n",
    "    NAMESPACE = f.read().strip()\n",
    "\n",
    "k8s_config.load_incluster_config()\n",
    "api_instance = k8s_client.ApiClient()\n",
    "custom_api = k8s_client.CustomObjectsApi(api_instance)"
   ]
  },
  {
   "cell_type": "markdown",
   "id": "e7ae4e12-10d7-4f2f-bf4f-abe7ae8baddf",
   "metadata": {},
   "source": [
    "### Define K8s Helpers"
   ]
  },
  {
   "cell_type": "code",
   "execution_count": 32,
   "id": "299ef526-4a6d-453e-9a47-500bbc2e1e2c",
   "metadata": {},
   "outputs": [],
   "source": [
    "def get_seldon_deployment(name, namespace):\n",
    "    \"\"\"Get SeldonDeployment by name.\"\"\"\n",
    "    return custom_api.get_namespaced_custom_object(\n",
    "        group=\"machinelearning.seldon.io\",\n",
    "        version=\"v1\",\n",
    "        plural=\"seldondeployments\",\n",
    "        namespace=namespace,\n",
    "        name=name,\n",
    "    )\n",
    "\n",
    "def delete_seldon_deployment(name, namespace):\n",
    "    \"\"\"Delete SeldonDeployment by name.\"\"\"\n",
    "    return custom_api.delete_namespaced_custom_object(\n",
    "        group=\"machinelearning.seldon.io\",\n",
    "        version=\"v1\",\n",
    "        plural=\"seldondeployments\",\n",
    "        namespace=namespace,\n",
    "        name=name,\n",
    "    )"
   ]
  },
  {
   "cell_type": "code",
   "execution_count": 42,
   "id": "8f010678-ea94-4874-bb55-7e85f0137309",
   "metadata": {},
   "outputs": [
    {
     "data": {
      "text/plain": [
       "{'address': {'url': 'http://kimonas-sotirchosnotebook-wine-wine-model.admin.svc.cluster.local:8000/api/v1.0/predictions'},\n",
       " 'conditions': [{'lastTransitionTime': '2023-11-04T11:11:19Z',\n",
       "   'reason': 'No Ambassador Mappaings defined',\n",
       "   'status': 'True',\n",
       "   'type': 'AmbassadorMappingsReady'},\n",
       "  {'lastTransitionTime': '2023-11-04T11:11:19Z',\n",
       "   'message': 'Deployment has minimum availability.',\n",
       "   'reason': 'MinimumReplicasAvailable',\n",
       "   'status': 'True',\n",
       "   'type': 'DeploymentsReady'},\n",
       "  {'lastTransitionTime': '2023-11-04T11:08:12Z',\n",
       "   'reason': 'No HPAs defined',\n",
       "   'status': 'True',\n",
       "   'type': 'HpasReady'},\n",
       "  {'lastTransitionTime': '2023-11-04T11:08:12Z',\n",
       "   'reason': 'No KEDA resources defined',\n",
       "   'status': 'True',\n",
       "   'type': 'KedaReady'},\n",
       "  {'lastTransitionTime': '2023-11-04T11:08:12Z',\n",
       "   'reason': 'No PDBs defined',\n",
       "   'status': 'True',\n",
       "   'type': 'PdbsReady'},\n",
       "  {'lastTransitionTime': '2023-11-04T11:11:19Z',\n",
       "   'status': 'True',\n",
       "   'type': 'Ready'},\n",
       "  {'lastTransitionTime': '2023-11-04T11:11:19Z',\n",
       "   'reason': 'All services created',\n",
       "   'status': 'True',\n",
       "   'type': 'ServicesReady'},\n",
       "  {'lastTransitionTime': '2023-11-04T11:11:19Z',\n",
       "   'reason': 'No VirtualServices defined',\n",
       "   'status': 'True',\n",
       "   'type': 'istioVirtualServicesReady'}],\n",
       " 'deploymentStatus': {'kimonas-sotirchosnotebook-wine-wine-model-0-classifier': {'availableReplicas': 1,\n",
       "   'replicas': 1}},\n",
       " 'replicas': 1,\n",
       " 'state': 'Available'}"
      ]
     },
     "execution_count": 42,
     "metadata": {},
     "output_type": "execute_result"
    }
   ],
   "source": [
    "# Check the status of the deployment\n",
    "get_seldon_deployment(SELDON_DEPLOYMENT_NAME, NAMESPACE)[\"status\"]"
   ]
  },
  {
   "cell_type": "markdown",
   "id": "74d27471-56ea-425e-a0ee-6d34cdf13301",
   "metadata": {},
   "source": [
    "## Perform Inference\n",
    "\n",
    "Wait for the SeldonDeployment to become available and hit it for predictions."
   ]
  },
  {
   "cell_type": "markdown",
   "id": "25c156ad-21a9-4ba8-86fb-d149f71dceca",
   "metadata": {},
   "source": [
    "### Hit SeldonDeployment for Predictions"
   ]
  },
  {
   "cell_type": "code",
   "execution_count": 43,
   "id": "c358116b-609f-410a-96a5-2455f9764336",
   "metadata": {},
   "outputs": [
    {
     "name": "stdout",
     "output_type": "stream",
     "text": [
      "SeldonDeployment URL: http://kimonas-sotirchosnotebook-wine-wine-model.admin.svc.cluster.local:8000/api/v1.0/predictions\n"
     ]
    }
   ],
   "source": [
    "sd = get_seldon_deployment(SELDON_DEPLOYMENT_NAME, NAMESPACE)\n",
    "url = sd['status']['address']['url']\n",
    "print(\"SeldonDeployment URL:\", url)"
   ]
  },
  {
   "cell_type": "code",
   "execution_count": 44,
   "id": "dc9c3b09-2f2f-4549-b0e5-458e9762fc93",
   "metadata": {},
   "outputs": [],
   "source": [
    "# prepare the data to send\n",
    "inference_input = {\n",
    "  \"data\": {\n",
    "      \"ndarray\": [\n",
    "          [\n",
    "              10.1, 0.37, 0.34, 2.4, 0.085, 5.0, 17.0, 0.99683, 3.17, 0.65, 10.6\n",
    "          ]\n",
    "      ]\n",
    "  }\n",
    "}"
   ]
  },
  {
   "cell_type": "code",
   "execution_count": 45,
   "id": "8468e5ae-d1ca-4cc6-a21e-a42fd433a9f2",
   "metadata": {},
   "outputs": [
    {
     "name": "stdout",
     "output_type": "stream",
     "text": [
      "{\"data\":{\"names\":[],\"ndarray\":[5.737135502528464]},\"meta\":{\"requestPath\":{\"classifier\":\"seldonio/mlflowserver:1.17.0\"}}}\n",
      "\n"
     ]
    }
   ],
   "source": [
    "# make the request\n",
    "response = requests.post(url, json=inference_input)\n",
    "print(response.text)"
   ]
  },
  {
   "cell_type": "markdown",
   "id": "c3b923a8-0163-4ba9-b7f4-1c4668f5d815",
   "metadata": {},
   "source": [
    "## Delete SeldonDeployment"
   ]
  },
  {
   "cell_type": "code",
   "execution_count": 46,
   "id": "4bc7cb5c-c5fd-4ebf-aa9c-45263ee1c049",
   "metadata": {},
   "outputs": [
    {
     "data": {
      "text/plain": [
       "{'kind': 'Status',\n",
       " 'apiVersion': 'v1',\n",
       " 'metadata': {},\n",
       " 'status': 'Success',\n",
       " 'details': {'name': 'kimonas-sotirchosnotebook-wine',\n",
       "  'group': 'machinelearning.seldon.io',\n",
       "  'kind': 'seldondeployments',\n",
       "  'uid': 'e2e389cd-0549-4531-a1cd-1870ebab4f26'}}"
      ]
     },
     "execution_count": 46,
     "metadata": {},
     "output_type": "execute_result"
    }
   ],
   "source": [
    "delete_seldon_deployment(SELDON_DEPLOYMENT_NAME, NAMESPACE)"
   ]
  }
 ],
 "metadata": {
  "kernelspec": {
   "display_name": "Python 3 (ipykernel)",
   "language": "python",
   "name": "python3"
  },
  "kubeflow_notebook": {
   "autosnapshot": false,
   "docker_image": "afrikha/uat2:latest",
   "experiment": {
    "id": "",
    "name": ""
   },
   "experiment_name": "",
   "katib_metadata": {
    "algorithm": {
     "algorithmName": "grid"
    },
    "maxFailedTrialCount": 3,
    "maxTrialCount": 12,
    "objective": {
     "objectiveMetricName": "",
     "type": "minimize"
    },
    "parallelTrialCount": 3,
    "parameters": []
   },
   "katib_run": false,
   "pipeline_description": "",
   "pipeline_name": "",
   "snapshot_volumes": false,
   "steps_defaults": [
    "label:access-minio:true",
    "label:access-ml-pipeline:true",
    "label:access-mlflow:true"
   ],
   "volume_access_mode": "rwm",
   "volumes": []
  },
  "language_info": {
   "codemirror_mode": {
    "name": "ipython",
    "version": 3
   },
   "file_extension": ".py",
   "mimetype": "text/x-python",
   "name": "python",
   "nbconvert_exporter": "python",
   "pygments_lexer": "ipython3",
   "version": "3.8.10"
  }
 },
 "nbformat": 4,
 "nbformat_minor": 5
}
