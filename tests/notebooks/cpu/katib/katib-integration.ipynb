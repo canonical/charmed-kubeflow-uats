{
 "cells": [
  {
   "cell_type": "markdown",
   "metadata": {},
   "source": [
    "# Test Katib Integration\n",
    "\n",
    "This example notebook is loosely based on [this](https://github.com/kubeflow/katib/blob/master/examples/v1beta1/sdk/cmaes-and-resume-policies.ipynb) upstream example.\n",
    "\n",
    "- create Katib Experiment\n",
    "- monitor its execution\n",
    "- get optimal HyperParameters\n",
    "- get Trials\n",
    "- get Suggestion\n",
    "- delete Experiment"
   ]
  },
  {
   "cell_type": "markdown",
   "metadata": {},
   "source": [
    "## Setup"
   ]
  },
  {
   "cell_type": "code",
   "execution_count": null,
   "metadata": {
    "tags": [
     "pytest-skip"
    ]
   },
   "outputs": [],
   "source": [
    "# Please check the requirements.in file for more details\n",
    "!pip install -r requirements.txt"
   ]
  },
  {
   "cell_type": "markdown",
   "metadata": {},
   "source": [
    "### Import required packages"
   ]
  },
  {
   "cell_type": "code",
   "execution_count": null,
   "metadata": {
    "tags": []
   },
   "outputs": [],
   "source": [
    "import os\n",
    "\n",
    "from kubeflow.katib import (\n",
    "    KatibClient,\n",
    "    V1beta1AlgorithmSpec,\n",
    "    V1beta1Experiment,\n",
    "    V1beta1ExperimentSpec,\n",
    "    V1beta1FeasibleSpace,\n",
    "    V1beta1ObjectiveSpec,\n",
    "    V1beta1ParameterSpec,\n",
    "    V1beta1TrialTemplate,\n",
    "    V1beta1TrialParameterSpec,\n",
    ")\n",
    "from kubernetes.client import V1ObjectMeta\n",
    "\n",
    "from tenacity import retry, stop_after_attempt, wait_exponential"
   ]
  },
  {
   "cell_type": "markdown",
   "metadata": {},
   "source": [
    "### Initialise Katib Client\n",
    "\n",
    "We will be using the Katib SDK for any actions executed as part of this example."
   ]
  },
  {
   "cell_type": "code",
   "execution_count": null,
   "metadata": {
    "tags": []
   },
   "outputs": [],
   "source": [
    "client = KatibClient()"
   ]
  },
  {
   "cell_type": "markdown",
   "metadata": {},
   "source": [
    "## Define a Katib Experiment\n",
    "\n",
    "Define a Katib Experiment object before deploying it. This Experiment is similar to [this](https://github.com/kubeflow/katib/blob/master/examples/v1beta1/hp-tuning/cma-es.yaml) example."
   ]
  },
  {
   "cell_type": "code",
   "execution_count": null,
   "metadata": {
    "tags": []
   },
   "outputs": [],
   "source": [
    "EXPERIMENT_NAME = \"cmaes-example\""
   ]
  },
  {
   "cell_type": "code",
   "execution_count": null,
   "metadata": {},
   "outputs": [],
   "source": [
    "def proxy_envs_set():\n",
    "    if (\n",
    "        os.environ.get(\"HTTP_PROXY\")\n",
    "        and os.environ.get(\"HTTPS_PROXY\")\n",
    "        and os.environ.get(\"NO_PROXY\")\n",
    "    ):\n",
    "        return True\n",
    "    return False"
   ]
  },
  {
   "cell_type": "code",
   "execution_count": null,
   "metadata": {
    "tags": []
   },
   "outputs": [],
   "source": [
    "metadata = V1ObjectMeta(\n",
    "    name=EXPERIMENT_NAME,\n",
    ")\n",
    "\n",
    "algorithm_spec = V1beta1AlgorithmSpec(algorithm_name=\"cmaes\")\n",
    "\n",
    "objective_spec = V1beta1ObjectiveSpec(\n",
    "    type=\"minimize\",\n",
    "    goal=0.001,\n",
    "    objective_metric_name=\"loss\",\n",
    "    additional_metric_names=[\"Train-accuracy\"],\n",
    ")\n",
    "\n",
    "# experiment search space\n",
    "# in this example we tune learning rate, number of layer, and optimizer\n",
    "parameters = [\n",
    "    V1beta1ParameterSpec(\n",
    "        name=\"lr\",\n",
    "        parameter_type=\"double\",\n",
    "        feasible_space=V1beta1FeasibleSpace(min=\"0.01\", max=\"0.06\"),\n",
    "    ),\n",
    "    V1beta1ParameterSpec(\n",
    "        name=\"momentum\",\n",
    "        parameter_type=\"double\",\n",
    "        feasible_space=V1beta1FeasibleSpace(min=\"0.5\", max=\"0.9\"),\n",
    "    ),\n",
    "]\n",
    "\n",
    "# JSON template specification for the Trial's Worker Kubernetes Job\n",
    "trial_spec = {\n",
    "    \"apiVersion\": \"batch/v1\",\n",
    "    \"kind\": \"Job\",\n",
    "    \"spec\": {\n",
    "        \"template\": {\n",
    "            \"metadata\": {\"annotations\": {\"sidecar.istio.io/inject\": \"false\"}},\n",
    "            \"spec\": {\n",
    "                \"containers\": [\n",
    "                    {\n",
    "                        \"name\": \"training-container\",\n",
    "                        \"image\": \"docker.io/kubeflowkatib/pytorch-mnist-cpu:v0.14.0\",\n",
    "                        \"command\": [\n",
    "                            \"python3\",\n",
    "                            \"/opt/pytorch-mnist/mnist.py\",\n",
    "                            \"--epochs=1\",\n",
    "                            \"--batch-size=16384\",\n",
    "                            \"--lr=${trialParameters.learningRate}\",\n",
    "                            \"--momentum=${trialParameters.momentum}\",\n",
    "                        ],\n",
    "                    }\n",
    "                ],\n",
    "                \"restartPolicy\": \"Never\",\n",
    "            },\n",
    "        }\n",
    "    },\n",
    "}\n",
    "\n",
    "if proxy_envs_set():\n",
    "    trial_spec[\"spec\"][\"template\"][\"metadata\"][\"labels\"] = {\"notebook-proxy\": \"true\"}\n",
    "\n",
    "trial_template = V1beta1TrialTemplate(\n",
    "    primary_container_name=\"training-container\",\n",
    "    trial_parameters=[\n",
    "        V1beta1TrialParameterSpec(\n",
    "            name=\"learningRate\", description=\"Learning rate for the training model\", reference=\"lr\"\n",
    "        ),\n",
    "        V1beta1TrialParameterSpec(\n",
    "            name=\"momentum\", description=\"Momentum for the training model\", reference=\"momentum\"\n",
    "        ),\n",
    "    ],\n",
    "    trial_spec=trial_spec,\n",
    ")\n",
    "\n",
    "experiment = V1beta1Experiment(\n",
    "    api_version=\"kubeflow.org/v1beta1\",\n",
    "    kind=\"Experiment\",\n",
    "    metadata=metadata,\n",
    "    spec=V1beta1ExperimentSpec(\n",
    "        max_trial_count=3,\n",
    "        parallel_trial_count=2,\n",
    "        max_failed_trial_count=1,\n",
    "        algorithm=algorithm_spec,\n",
    "        objective=objective_spec,\n",
    "        parameters=parameters,\n",
    "        trial_template=trial_template,\n",
    "    ),\n",
    ")"
   ]
  },
  {
   "cell_type": "markdown",
   "metadata": {},
   "source": [
    "Print the Experiment's info to verify it before submission."
   ]
  },
  {
   "cell_type": "code",
   "execution_count": null,
   "metadata": {
    "scrolled": true,
    "tags": []
   },
   "outputs": [],
   "source": [
    "print(\"Name:\", experiment.metadata.name)\n",
    "print(\"Algorithm:\", experiment.spec.algorithm.algorithm_name)\n",
    "print(\"Objective:\", experiment.spec.objective.objective_metric_name)\n",
    "print(\"Trial Parameters:\")\n",
    "for param in experiment.spec.trial_template.trial_parameters:\n",
    "    print(f\"- {param.name}: {param.description}\")\n",
    "print(\"Max Trial Count:\", experiment.spec.max_trial_count)\n",
    "print(\"Max Failed Trial Count:\", experiment.spec.max_failed_trial_count)\n",
    "print(\"Parallel Trial Count:\", experiment.spec.parallel_trial_count)"
   ]
  },
  {
   "cell_type": "markdown",
   "metadata": {},
   "source": [
    "## List existing Katib Experiments\n",
    "\n",
    "List Katib Experiments in the current namespace."
   ]
  },
  {
   "cell_type": "code",
   "execution_count": null,
   "metadata": {
    "tags": []
   },
   "outputs": [],
   "source": [
    "[exp.metadata.name for exp in client.list_experiments()]"
   ]
  },
  {
   "cell_type": "markdown",
   "metadata": {},
   "source": [
    "## Create Katib Experiment\n",
    "\n",
    "Create a Katib Experiment using the SDK."
   ]
  },
  {
   "cell_type": "code",
   "execution_count": null,
   "metadata": {
    "tags": []
   },
   "outputs": [],
   "source": [
    "client.create_experiment(experiment)"
   ]
  },
  {
   "cell_type": "markdown",
   "metadata": {},
   "source": [
    "## Get Katib Experiment\n",
    "\n",
    "Get the created Katib Experiment by name and check its data.  \n",
    "Make sure that it completes successfully before proceeding. "
   ]
  },
  {
   "cell_type": "code",
   "execution_count": null,
   "metadata": {
    "tags": []
   },
   "outputs": [],
   "source": [
    "@retry(\n",
    "    wait=wait_exponential(multiplier=2, min=1, max=10),\n",
    "    stop=stop_after_attempt(30),\n",
    "    reraise=True,\n",
    ")\n",
    "def assert_experiment_succeeded(client, experiment):\n",
    "    \"\"\"Wait for the Katib Experiment to complete successfully.\"\"\"\n",
    "    assert client.is_experiment_succeeded(name=experiment), f\"Katib Experiment was not successful.\""
   ]
  },
  {
   "cell_type": "code",
   "execution_count": null,
   "metadata": {
    "tags": [
     "raises-exception"
    ]
   },
   "outputs": [],
   "source": [
    "# verify that the Experiment was created successfully\n",
    "# raises an error if it doesn't exist\n",
    "client.get_experiment(name=EXPERIMENT_NAME)\n",
    "\n",
    "# wait for the Experiment to complete successfully\n",
    "assert_experiment_succeeded(client, EXPERIMENT_NAME)"
   ]
  },
  {
   "cell_type": "code",
   "execution_count": null,
   "metadata": {
    "scrolled": true,
    "tags": []
   },
   "outputs": [],
   "source": [
    "exp = client.get_experiment(name=EXPERIMENT_NAME)\n",
    "print(\"Experiment:\", exp.metadata.name, end=\"\\n\\n\")\n",
    "print(\"Experiment Spec:\", exp.spec, sep=\"\\n\", end=\"\\n\\n\")\n",
    "print(\"Experiment Status:\", exp.status, sep=\"\\n\", end=\"\\n\\n\")"
   ]
  },
  {
   "cell_type": "markdown",
   "metadata": {},
   "source": [
    "### Get Experiment conditions\n",
    "\n",
    "Check the current Experiment conditions and verify that the last one is \"Succeeded\"."
   ]
  },
  {
   "cell_type": "code",
   "execution_count": null,
   "metadata": {
    "tags": []
   },
   "outputs": [],
   "source": [
    "conditions = client.get_experiment_conditions(name=EXPERIMENT_NAME)\n",
    "print(conditions)"
   ]
  },
  {
   "cell_type": "code",
   "execution_count": null,
   "metadata": {
    "tags": [
     "raises-exception"
    ]
   },
   "outputs": [],
   "source": [
    "assert conditions[-1].type == \"Succeeded\""
   ]
  },
  {
   "cell_type": "markdown",
   "metadata": {},
   "source": [
    "### Get the optimal HyperParameters\n",
    "\n",
    "Get the optimal HyperParameters at the end of the tuning Experiment.  \n",
    "Each metric comes with the max, min and latest value."
   ]
  },
  {
   "cell_type": "code",
   "execution_count": null,
   "metadata": {
    "tags": []
   },
   "outputs": [],
   "source": [
    "client.get_optimal_hyperparameters(name=EXPERIMENT_NAME)"
   ]
  },
  {
   "cell_type": "markdown",
   "metadata": {},
   "source": [
    "## List Katib Trials\n",
    "\n",
    "Get a list of the current Trials with the latest status."
   ]
  },
  {
   "cell_type": "code",
   "execution_count": null,
   "metadata": {
    "scrolled": true,
    "tags": []
   },
   "outputs": [],
   "source": [
    "trial_list = client.list_trials(experiment_name=EXPERIMENT_NAME)\n",
    "for trial in trial_list:\n",
    "    print(\"Trial:\", trial.metadata.name)\n",
    "    print(\"Trial Status:\", trial.status.conditions[-1], sep=\"\\n\", end=\"\\n\\n\")"
   ]
  },
  {
   "cell_type": "code",
   "execution_count": null,
   "metadata": {
    "tags": [
     "raises-exception"
    ]
   },
   "outputs": [],
   "source": [
    "# verify that the max trial count was reached\n",
    "assert len(trial_list) == experiment.spec.max_trial_count\n",
    "\n",
    "# verify that all trials were successful\n",
    "for trial in trial_list:\n",
    "    assert trial.status.conditions[-1].type == \"Succeeded\""
   ]
  },
  {
   "cell_type": "markdown",
   "metadata": {},
   "source": [
    "## Get Katib Suggestion\n",
    "\n",
    "Inspect the Suggestion object for more information."
   ]
  },
  {
   "cell_type": "code",
   "execution_count": null,
   "metadata": {
    "tags": []
   },
   "outputs": [],
   "source": [
    "suggestion = client.get_suggestion(name=EXPERIMENT_NAME)\n",
    "print(\"Suggestion:\", suggestion.metadata.name, end=\"\\n\\n\")\n",
    "print(\"Suggestion Spec:\", suggestion.spec, sep=\"\\n\", end=\"\\n\\n\")\n",
    "print(\"Suggestion Status:\", suggestion.status, sep=\"\\n\", end=\"\\n\\n\")"
   ]
  },
  {
   "cell_type": "code",
   "execution_count": null,
   "metadata": {
    "tags": [
     "raises-exception"
    ]
   },
   "outputs": [],
   "source": [
    "assert suggestion.status.conditions[-1].type == \"Succeeded\""
   ]
  },
  {
   "cell_type": "markdown",
   "metadata": {},
   "source": [
    "## Delete Katib Experiment\n",
    "\n",
    "Delete the created Experiment and check that all created resources were removed as well."
   ]
  },
  {
   "cell_type": "code",
   "execution_count": null,
   "metadata": {
    "tags": []
   },
   "outputs": [],
   "source": [
    "client.delete_experiment(name=EXPERIMENT_NAME)"
   ]
  },
  {
   "cell_type": "code",
   "execution_count": null,
   "metadata": {
    "tags": []
   },
   "outputs": [],
   "source": [
    "@retry(\n",
    "    wait=wait_exponential(multiplier=2, min=1, max=10),\n",
    "    stop=stop_after_attempt(30),\n",
    "    reraise=True,\n",
    ")\n",
    "def assert_katib_resources_removed(client, experiment_name):\n",
    "    \"\"\"Wait for Katib resources to be removed.\"\"\"\n",
    "    # fetch the existing Experiment names\n",
    "    # verify that the Experiment was deleted successfully\n",
    "    experiments = {exp.metadata.name for exp in client.list_experiments()}\n",
    "    assert (\n",
    "        experiment_name not in experiments\n",
    "    ), f\"Failed to delete Katib Experiment {experiment_name}!\"\n",
    "\n",
    "    # fetch the existing Trials and retrieve the names of the Experiments these belong to\n",
    "    # verify that the Trials were removed successfully\n",
    "    trials = {\n",
    "        tr.metadata.labels.get(\"katib.kubeflow.org/experiment\") for tr in client.list_trials()\n",
    "    }\n",
    "    assert (\n",
    "        experiment_name not in trials\n",
    "    ), f\"Katib Trials of Experiment {experiment_name} were not removed!\"\n",
    "\n",
    "    # fetch the existing Suggestion names\n",
    "    # verify that the Suggestion was removed successfully\n",
    "    suggestions = {sugg.metadata.name for sugg in client.list_suggestions()}\n",
    "    assert (\n",
    "        experiment_name not in suggestions\n",
    "    ), f\"Katib Suggestion {experiment_name} was not removed!\""
   ]
  },
  {
   "cell_type": "code",
   "execution_count": null,
   "metadata": {
    "tags": [
     "raises-exception"
    ]
   },
   "outputs": [],
   "source": [
    "# wait for Katib resources to be removed successfully\n",
    "assert_katib_resources_removed(client, EXPERIMENT_NAME)"
   ]
  }
 ],
 "metadata": {
  "kernelspec": {
   "display_name": "Python 3 (ipykernel)",
   "language": "python",
   "name": "python3"
  },
  "language_info": {
   "codemirror_mode": {
    "name": "ipython",
    "version": 3
   },
   "file_extension": ".py",
   "mimetype": "text/x-python",
   "name": "python",
   "nbconvert_exporter": "python",
   "pygments_lexer": "ipython3",
   "version": "3.11.9"
  }
 },
 "nbformat": 4,
 "nbformat_minor": 4
}
