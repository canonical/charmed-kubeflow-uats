{
 "cells": [
  {
   "cell_type": "markdown",
   "id": "dabaa482-e436-4948-8986-069c9ed1dd2f",
   "metadata": {},
   "source": [
    "# 🧪 User Acceptance Test (UAT) for Feast Integration\n",
    "\n",
    "This notebook performs a full end-to-end User Acceptance Test (UAT) for a Feast setup using PostgreSQL for both the offline and online stores, and SQL-based registry.\n",
    "\n",
    "## ✅ Steps Covered\n",
    "\n",
    "1. **Load Feast Configuration**  \n",
    "   Copies the `feature_store.yaml` file from the location specified by the `FEAST_CONFIG_PATH` environment variable into the working directory.\n",
    "\n",
    "2. **Load Sample Data into Offline Store**  \n",
    "   Reads `data/driver_stats.parquet` and loads it into the configured PostgreSQL offline store using credentials extracted from `feature_store.yaml`.\n",
    "\n",
    "3. **Apply Feature Definitions**  \n",
    "   Cleans up the `specs/` directory, ensures it is a valid Python package, and uses the `FeatureStore.apply()` method to register entities, features, and data sources.\n",
    "\n",
    "4. **Retrieve Historical Features**  \n",
    "   Fetches historical training data using `get_historical_features()` to ensure offline retrieval logic is functioning as expected.\n",
    "\n",
    "5. **Materialize Features to Online Store**  \n",
    "   Uses `materialize()` or `materialize_incremental()` to populate the online store from the offline store, testing the materialization path.\n",
    "\n",
    "6. **Retrieve Online Features**  \n",
    "   Uses `get_online_features()` to ensure real-time retrieval from the online store works correctly with previously materialized data.\n",
    "\n",
    "---\n",
    "\n",
    "This notebook verifies that Feast is correctly configured, the stores are accessible and populated, and that both offline and online retrieval workflows function end-to-end."
   ]
  },
  {
   "cell_type": "code",
   "execution_count": 1,
   "id": "49f765c8-dfda-4108-a90d-a51b0579c4a9",
   "metadata": {},
   "outputs": [
    {
     "name": "stdout",
     "output_type": "stream",
     "text": [
      "Requirement already satisfied: annotated-types==0.7.0 in /opt/conda/lib/python3.11/site-packages (from -r requirements.txt (line 7)) (0.7.0)\n",
      "Requirement already satisfied: anyio==4.9.0 in /opt/conda/lib/python3.11/site-packages (from -r requirements.txt (line 9)) (4.9.0)\n",
      "Requirement already satisfied: attrs==25.3.0 in /opt/conda/lib/python3.11/site-packages (from -r requirements.txt (line 13)) (25.3.0)\n",
      "Requirement already satisfied: bigtree==0.29.2 in /opt/conda/lib/python3.11/site-packages (from -r requirements.txt (line 17)) (0.29.2)\n",
      "Requirement already satisfied: certifi==2025.4.26 in /opt/conda/lib/python3.11/site-packages (from -r requirements.txt (line 19)) (2025.4.26)\n",
      "Requirement already satisfied: charset-normalizer==3.4.2 in /opt/conda/lib/python3.11/site-packages (from -r requirements.txt (line 21)) (3.4.2)\n",
      "Requirement already satisfied: click==8.2.1 in /opt/conda/lib/python3.11/site-packages (from -r requirements.txt (line 23)) (8.2.1)\n",
      "Requirement already satisfied: cloudpickle==3.1.1 in /opt/conda/lib/python3.11/site-packages (from -r requirements.txt (line 28)) (3.1.1)\n",
      "Requirement already satisfied: colorama==0.4.6 in /opt/conda/lib/python3.11/site-packages (from -r requirements.txt (line 30)) (0.4.6)\n",
      "Requirement already satisfied: dask==2025.5.1 in /opt/conda/lib/python3.11/site-packages (from dask[array,dataframe]==2025.5.1->-r requirements.txt (line 32)) (2025.5.1)\n",
      "Requirement already satisfied: dill==0.3.9 in /opt/conda/lib/python3.11/site-packages (from -r requirements.txt (line 34)) (0.3.9)\n",
      "Requirement already satisfied: fastapi==0.115.12 in /opt/conda/lib/python3.11/site-packages (from -r requirements.txt (line 36)) (0.115.12)\n",
      "Requirement already satisfied: feast==0.49.0 in /opt/conda/lib/python3.11/site-packages (from feast[postgres]==0.49.0->-r requirements.txt (line 38)) (0.49.0)\n",
      "Requirement already satisfied: fsspec==2025.5.1 in /opt/conda/lib/python3.11/site-packages (from -r requirements.txt (line 40)) (2025.5.1)\n",
      "Requirement already satisfied: greenlet==3.2.2 in /opt/conda/lib/python3.11/site-packages (from -r requirements.txt (line 42)) (3.2.2)\n",
      "Requirement already satisfied: gunicorn==23.0.0 in /opt/conda/lib/python3.11/site-packages (from -r requirements.txt (line 44)) (23.0.0)\n",
      "Requirement already satisfied: h11==0.16.0 in /opt/conda/lib/python3.11/site-packages (from -r requirements.txt (line 48)) (0.16.0)\n",
      "Requirement already satisfied: httptools==0.6.4 in /opt/conda/lib/python3.11/site-packages (from -r requirements.txt (line 50)) (0.6.4)\n",
      "Requirement already satisfied: idna==3.10 in /opt/conda/lib/python3.11/site-packages (from -r requirements.txt (line 52)) (3.10)\n",
      "Requirement already satisfied: importlib-metadata==8.7.0 in /opt/conda/lib/python3.11/site-packages (from -r requirements.txt (line 56)) (8.7.0)\n",
      "Requirement already satisfied: jinja2==3.1.6 in /opt/conda/lib/python3.11/site-packages (from -r requirements.txt (line 58)) (3.1.6)\n",
      "Requirement already satisfied: jsonschema==4.24.0 in /opt/conda/lib/python3.11/site-packages (from -r requirements.txt (line 60)) (4.24.0)\n",
      "Requirement already satisfied: jsonschema-specifications==2025.4.1 in /opt/conda/lib/python3.11/site-packages (from -r requirements.txt (line 62)) (2025.4.1)\n",
      "Requirement already satisfied: locket==1.0.0 in /opt/conda/lib/python3.11/site-packages (from -r requirements.txt (line 64)) (1.0.0)\n",
      "Requirement already satisfied: markupsafe==3.0.2 in /opt/conda/lib/python3.11/site-packages (from -r requirements.txt (line 66)) (3.0.2)\n",
      "Requirement already satisfied: mmh3==5.1.0 in /opt/conda/lib/python3.11/site-packages (from -r requirements.txt (line 68)) (5.1.0)\n",
      "Requirement already satisfied: mypy==1.16.0 in /opt/conda/lib/python3.11/site-packages (from -r requirements.txt (line 70)) (1.16.0)\n",
      "Requirement already satisfied: mypy-extensions==1.1.0 in /opt/conda/lib/python3.11/site-packages (from -r requirements.txt (line 72)) (1.1.0)\n",
      "Requirement already satisfied: numpy==1.26.4 in /opt/conda/lib/python3.11/site-packages (from -r requirements.txt (line 74)) (1.26.4)\n",
      "Requirement already satisfied: packaging==25.0 in /opt/conda/lib/python3.11/site-packages (from -r requirements.txt (line 80)) (25.0)\n",
      "Requirement already satisfied: pandas==2.3.0 in /opt/conda/lib/python3.11/site-packages (from -r requirements.txt (line 84)) (2.3.0)\n",
      "Requirement already satisfied: partd==1.4.2 in /opt/conda/lib/python3.11/site-packages (from -r requirements.txt (line 88)) (1.4.2)\n",
      "Requirement already satisfied: pathspec==0.12.1 in /opt/conda/lib/python3.11/site-packages (from -r requirements.txt (line 90)) (0.12.1)\n",
      "Requirement already satisfied: prometheus-client==0.22.1 in /opt/conda/lib/python3.11/site-packages (from -r requirements.txt (line 92)) (0.22.1)\n",
      "Requirement already satisfied: protobuf==6.31.1 in /opt/conda/lib/python3.11/site-packages (from -r requirements.txt (line 94)) (6.31.1)\n",
      "Requirement already satisfied: psutil==7.0.0 in /opt/conda/lib/python3.11/site-packages (from -r requirements.txt (line 96)) (7.0.0)\n",
      "Requirement already satisfied: psycopg==3.2.5 in /opt/conda/lib/python3.11/site-packages (from psycopg[binary,pool]==3.2.5->-r requirements.txt (line 98)) (3.2.5)\n",
      "Requirement already satisfied: psycopg-binary==3.2.5 in /opt/conda/lib/python3.11/site-packages (from -r requirements.txt (line 100)) (3.2.5)\n",
      "Requirement already satisfied: psycopg-pool==3.2.6 in /opt/conda/lib/python3.11/site-packages (from -r requirements.txt (line 102)) (3.2.6)\n",
      "Requirement already satisfied: psycopg2-binary==2.9.10 in /opt/conda/lib/python3.11/site-packages (from -r requirements.txt (line 104)) (2.9.10)\n",
      "Requirement already satisfied: pyarrow==17.0.0 in /opt/conda/lib/python3.11/site-packages (from -r requirements.txt (line 106)) (17.0.0)\n",
      "Requirement already satisfied: pydantic==2.10.6 in /opt/conda/lib/python3.11/site-packages (from -r requirements.txt (line 110)) (2.10.6)\n",
      "Requirement already satisfied: pydantic-core==2.27.2 in /opt/conda/lib/python3.11/site-packages (from -r requirements.txt (line 114)) (2.27.2)\n",
      "Requirement already satisfied: pygments==2.19.1 in /opt/conda/lib/python3.11/site-packages (from -r requirements.txt (line 116)) (2.19.1)\n",
      "Requirement already satisfied: pyjwt==2.10.1 in /opt/conda/lib/python3.11/site-packages (from -r requirements.txt (line 118)) (2.10.1)\n",
      "Requirement already satisfied: python-dateutil==2.9.0.post0 in /opt/conda/lib/python3.11/site-packages (from -r requirements.txt (line 120)) (2.9.0.post0)\n",
      "Requirement already satisfied: python-dotenv==1.1.0 in /opt/conda/lib/python3.11/site-packages (from -r requirements.txt (line 122)) (1.1.0)\n",
      "Requirement already satisfied: pytz==2025.2 in /opt/conda/lib/python3.11/site-packages (from -r requirements.txt (line 124)) (2025.2)\n",
      "Requirement already satisfied: pyyaml==6.0.2 in /opt/conda/lib/python3.11/site-packages (from -r requirements.txt (line 126)) (6.0.2)\n",
      "Requirement already satisfied: referencing==0.36.2 in /opt/conda/lib/python3.11/site-packages (from -r requirements.txt (line 131)) (0.36.2)\n",
      "Requirement already satisfied: requests==2.32.3 in /opt/conda/lib/python3.11/site-packages (from -r requirements.txt (line 135)) (2.32.3)\n",
      "Requirement already satisfied: rpds-py==0.25.1 in /opt/conda/lib/python3.11/site-packages (from -r requirements.txt (line 137)) (0.25.1)\n",
      "Requirement already satisfied: six==1.17.0 in /opt/conda/lib/python3.11/site-packages (from -r requirements.txt (line 141)) (1.17.0)\n",
      "Requirement already satisfied: sniffio==1.3.1 in /opt/conda/lib/python3.11/site-packages (from -r requirements.txt (line 143)) (1.3.1)\n",
      "Requirement already satisfied: sqlalchemy==2.0.41 in /opt/conda/lib/python3.11/site-packages (from sqlalchemy[mypy]==2.0.41->-r requirements.txt (line 145)) (2.0.41)\n",
      "Requirement already satisfied: starlette==0.46.2 in /opt/conda/lib/python3.11/site-packages (from -r requirements.txt (line 149)) (0.46.2)\n",
      "Requirement already satisfied: tabulate==0.9.0 in /opt/conda/lib/python3.11/site-packages (from -r requirements.txt (line 151)) (0.9.0)\n",
      "Requirement already satisfied: tenacity==8.5.0 in /opt/conda/lib/python3.11/site-packages (from -r requirements.txt (line 153)) (8.5.0)\n",
      "Requirement already satisfied: toml==0.10.2 in /opt/conda/lib/python3.11/site-packages (from -r requirements.txt (line 155)) (0.10.2)\n",
      "Requirement already satisfied: toolz==1.0.0 in /opt/conda/lib/python3.11/site-packages (from -r requirements.txt (line 157)) (1.0.0)\n",
      "Requirement already satisfied: tqdm==4.67.1 in /opt/conda/lib/python3.11/site-packages (from -r requirements.txt (line 161)) (4.67.1)\n",
      "Requirement already satisfied: typeguard==4.4.3 in /opt/conda/lib/python3.11/site-packages (from -r requirements.txt (line 163)) (4.4.3)\n",
      "Requirement already satisfied: typing-extensions==4.14.0 in /opt/conda/lib/python3.11/site-packages (from -r requirements.txt (line 165)) (4.14.0)\n",
      "Requirement already satisfied: tzdata==2025.2 in /opt/conda/lib/python3.11/site-packages (from -r requirements.txt (line 177)) (2025.2)\n",
      "Requirement already satisfied: urllib3==2.4.0 in /opt/conda/lib/python3.11/site-packages (from -r requirements.txt (line 179)) (2.4.0)\n",
      "Requirement already satisfied: uvicorn==0.34.0 in /opt/conda/lib/python3.11/site-packages (from uvicorn[standard]==0.34.0->-r requirements.txt (line 181)) (0.34.0)\n",
      "Requirement already satisfied: uvicorn-worker==0.3.0 in /opt/conda/lib/python3.11/site-packages (from -r requirements.txt (line 185)) (0.3.0)\n",
      "Requirement already satisfied: uvloop==0.21.0 in /opt/conda/lib/python3.11/site-packages (from -r requirements.txt (line 187)) (0.21.0)\n",
      "Requirement already satisfied: watchfiles==1.0.5 in /opt/conda/lib/python3.11/site-packages (from -r requirements.txt (line 189)) (1.0.5)\n",
      "Requirement already satisfied: websockets==15.0.1 in /opt/conda/lib/python3.11/site-packages (from -r requirements.txt (line 191)) (15.0.1)\n",
      "Requirement already satisfied: zipp==3.22.0 in /opt/conda/lib/python3.11/site-packages (from -r requirements.txt (line 193)) (3.22.0)\n"
     ]
    }
   ],
   "source": [
    "# Please check the requirements.in file for more details\n",
    "!pip install -r requirements.txt"
   ]
  },
  {
   "cell_type": "markdown",
   "id": "b9c1d445-5859-4091-a5ce-ade4c4e6bf79",
   "metadata": {},
   "source": [
    "# Load Feast Configuration"
   ]
  },
  {
   "cell_type": "code",
   "execution_count": 2,
   "id": "931ca7cb-ea1b-4a1a-9222-a423d12625e5",
   "metadata": {},
   "outputs": [
    {
     "name": "stdout",
     "output_type": "stream",
     "text": [
      "Copied /feast/feature_store.yaml to current directory.\n"
     ]
    }
   ],
   "source": [
    "import os\n",
    "import shutil\n",
    "\n",
    "# Get the path to the Feast config file from the environment variable\n",
    "feast_config_path = os.getenv(\"FEAST_CONFIG_PATH\")\n",
    "\n",
    "# Copy the file to the current directory\n",
    "if feast_config_path:\n",
    "    shutil.copy(feast_config_path, \"./specs/feature_store.yaml\")\n",
    "    print(f\"Copied {feast_config_path} to current directory.\")\n",
    "else:\n",
    "    print(\"Environment variable FEAST_CONFIG_PATH is not set.\")"
   ]
  },
  {
   "cell_type": "markdown",
   "id": "33808ad9-e593-4008-92db-d0feb3465fd0",
   "metadata": {},
   "source": [
    "# Load Sample Data into Offline Store"
   ]
  },
  {
   "cell_type": "code",
   "execution_count": null,
   "id": "15086b96-c3d7-47fd-9e68-4fdf20508d5b",
   "metadata": {},
   "outputs": [
    {
     "name": "stdout",
     "output_type": "stream",
     "text": [
      "Data from data/driver_stats.parquet has been loaded into the 'driver_stats' table in the 'offline_store' database.\n"
     ]
    }
   ],
   "source": [
    "import pandas as pd\n",
    "import yaml\n",
    "from sqlalchemy import create_engine\n",
    "\n",
    "# Step 1: Load DB credentials from feature_store.yaml\n",
    "with open(\"specs/feature_store.yaml\", \"r\") as f:\n",
    "    config = yaml.safe_load(f)\n",
    "\n",
    "offline_config = config.get(\"offline_store\", {})\n",
    "db_user = offline_config.get(\"user\")\n",
    "db_password = offline_config.get(\"password\")\n",
    "db_host = offline_config.get(\"host\")\n",
    "db_port = offline_config.get(\"port\")\n",
    "db_name = offline_config.get(\"database\")\n",
    "\n",
    "if not all([db_user, db_password, db_host, db_port, db_name]):\n",
    "    raise ValueError(\"One or more offline store config values are missing in feature_store.yaml\")\n",
    "\n",
    "# Step 2: Read the Parquet file\n",
    "parquet_file_path = \"data/driver_stats.parquet\"\n",
    "df = pd.read_parquet(parquet_file_path)\n",
    "\n",
    "# Step 3: Connect to the PostgreSQL database\n",
    "engine = create_engine(f\"postgresql://{db_user}:{db_password}@{db_host}:{db_port}/{db_name}\")\n",
    "\n",
    "# Step 4: Write the DataFrame to PostgreSQL\n",
    "table_name = \"driver_stats\"\n",
    "df.to_sql(table_name, engine, if_exists=\"replace\", index=False)\n",
    "\n",
    "print(\n",
    "    f\"Data from {parquet_file_path} has been loaded into the '{table_name}' table \"\n",
    "    f\"in the '{db_name}' database.\"\n",
    ")"
   ]
  },
  {
   "cell_type": "markdown",
   "id": "771d5a5f-9c46-4b38-b6ee-92c7be1cd638",
   "metadata": {},
   "source": [
    "# Apply Feature Definitions"
   ]
  },
  {
   "cell_type": "code",
   "execution_count": 4,
   "id": "bb2a11a7-1bf7-40a2-b870-8b5bb1794fc0",
   "metadata": {},
   "outputs": [
    {
     "name": "stdout",
     "output_type": "stream",
     "text": [
      "Feast apply executed successfully.\n",
      "\n",
      "No project found in the repository. Using project name feast_project defined in feature_store.yaml\n",
      "Applying changes for project feast_project\n",
      "Deploying infrastructure for driver_hourly_stats2\n",
      "\n"
     ]
    }
   ],
   "source": [
    "import os\n",
    "import shutil\n",
    "import subprocess\n",
    "\n",
    "# Delete hidden Jupyter checkpoint folder inside specs\n",
    "shutil.rmtree(\"specs/.ipynb_checkpoints\", ignore_errors=True)\n",
    "\n",
    "with open(\"specs/__init__.py\", \"w\") as f:\n",
    "    f.write(\"\")  # create empty __init__.py\n",
    "\n",
    "# Get current working directory (where notebook is running)\n",
    "specs_dir = os.path.join(os.getcwd(), \"specs\")\n",
    "\n",
    "try:\n",
    "    result = subprocess.run(\n",
    "        [\"feast\", \"apply\"], cwd=specs_dir, capture_output=True, text=True, check=True\n",
    "    )\n",
    "    print(\"Feast apply executed successfully.\\n\")\n",
    "    print(result.stdout)\n",
    "except subprocess.CalledProcessError as e:\n",
    "    print(\"Error running 'feast apply':\")\n",
    "    print(e.stderr)"
   ]
  },
  {
   "cell_type": "code",
   "execution_count": 5,
   "id": "7c89b124-3271-493e-9821-b8f1f4711603",
   "metadata": {},
   "outputs": [
    {
     "name": "stdout",
     "output_type": "stream",
     "text": [
      "✅ All expected Feast registry tables are present.\n"
     ]
    }
   ],
   "source": [
    "import yaml\n",
    "from sqlalchemy import create_engine, inspect\n",
    "\n",
    "# Step 1: Load registry DB URI from feature_store.yaml\n",
    "with open(\"specs/feature_store.yaml\", \"r\") as f:\n",
    "    config = yaml.safe_load(f)\n",
    "\n",
    "registry_uri = config.get(\"registry\", {}).get(\"path\")\n",
    "if not registry_uri:\n",
    "    raise ValueError(\"Registry URI not found in feature_store.yaml\")\n",
    "\n",
    "# Step 2: Connect to the registry database\n",
    "engine = create_engine(registry_uri)\n",
    "inspector = inspect(engine)\n",
    "\n",
    "# Step 3: List all tables\n",
    "existing_tables = set(inspector.get_table_names())\n",
    "\n",
    "# Step 4: Define expected tables\n",
    "expected_tables = {\n",
    "    \"projects\",\n",
    "    \"entities\",\n",
    "    \"data_sources\",\n",
    "    \"feature_views\",\n",
    "    \"stream_feature_views\",\n",
    "    \"on_demand_feature_views\",\n",
    "    \"feature_services\",\n",
    "    \"saved_datasets\",\n",
    "    \"validation_references\",\n",
    "    \"managed_infra\",\n",
    "    \"permissions\",\n",
    "    \"feast_metadata\",\n",
    "}\n",
    "\n",
    "# Step 5: Assert expected tables are present\n",
    "missing_tables = expected_tables - existing_tables\n",
    "assert not missing_tables, f\"Missing tables in registry DB: {missing_tables}\"\n",
    "\n",
    "print(\"✅ All expected Feast registry tables are present.\")"
   ]
  },
  {
   "cell_type": "markdown",
   "id": "117a948d-2798-474b-9a19-47e383de330b",
   "metadata": {},
   "source": [
    "# Retrieve Historical Features"
   ]
  },
  {
   "cell_type": "code",
   "execution_count": 6,
   "id": "c22fce15-6fb8-4973-9f14-c227c6faa596",
   "metadata": {},
   "outputs": [
    {
     "name": "stderr",
     "output_type": "stream",
     "text": [
      "/opt/conda/lib/python3.11/site-packages/google/protobuf/runtime_version.py:98: UserWarning: Protobuf gencode version 5.29.0 is exactly one major version older than the runtime version 6.31.1 at feast/types/Value.proto. Please update the gencode to avoid compatibility violations in the next runtime release.\n",
      "  warnings.warn(\n",
      "/opt/conda/lib/python3.11/site-packages/google/protobuf/runtime_version.py:98: UserWarning: Protobuf gencode version 5.29.0 is exactly one major version older than the runtime version 6.31.1 at feast/core/DataFormat.proto. Please update the gencode to avoid compatibility violations in the next runtime release.\n",
      "  warnings.warn(\n",
      "/opt/conda/lib/python3.11/site-packages/google/protobuf/runtime_version.py:98: UserWarning: Protobuf gencode version 5.29.0 is exactly one major version older than the runtime version 6.31.1 at feast/core/Feature.proto. Please update the gencode to avoid compatibility violations in the next runtime release.\n",
      "  warnings.warn(\n",
      "/opt/conda/lib/python3.11/site-packages/google/protobuf/runtime_version.py:98: UserWarning: Protobuf gencode version 5.29.0 is exactly one major version older than the runtime version 6.31.1 at feast/core/DataSource.proto. Please update the gencode to avoid compatibility violations in the next runtime release.\n",
      "  warnings.warn(\n",
      "/opt/conda/lib/python3.11/site-packages/google/protobuf/runtime_version.py:98: UserWarning: Protobuf gencode version 5.29.0 is exactly one major version older than the runtime version 6.31.1 at feast/core/Entity.proto. Please update the gencode to avoid compatibility violations in the next runtime release.\n",
      "  warnings.warn(\n",
      "/opt/conda/lib/python3.11/site-packages/google/protobuf/runtime_version.py:98: UserWarning: Protobuf gencode version 5.29.0 is exactly one major version older than the runtime version 6.31.1 at feast/types/EntityKey.proto. Please update the gencode to avoid compatibility violations in the next runtime release.\n",
      "  warnings.warn(\n",
      "/opt/conda/lib/python3.11/site-packages/google/protobuf/runtime_version.py:98: UserWarning: Protobuf gencode version 5.29.0 is exactly one major version older than the runtime version 6.31.1 at feast/serving/ServingService.proto. Please update the gencode to avoid compatibility violations in the next runtime release.\n",
      "  warnings.warn(\n",
      "/opt/conda/lib/python3.11/site-packages/google/protobuf/runtime_version.py:98: UserWarning: Protobuf gencode version 5.29.0 is exactly one major version older than the runtime version 6.31.1 at feast/core/FeatureViewProjection.proto. Please update the gencode to avoid compatibility violations in the next runtime release.\n",
      "  warnings.warn(\n",
      "/opt/conda/lib/python3.11/site-packages/google/protobuf/runtime_version.py:98: UserWarning: Protobuf gencode version 5.29.0 is exactly one major version older than the runtime version 6.31.1 at feast/core/FeatureView.proto. Please update the gencode to avoid compatibility violations in the next runtime release.\n",
      "  warnings.warn(\n",
      "/opt/conda/lib/python3.11/site-packages/google/protobuf/runtime_version.py:98: UserWarning: Protobuf gencode version 5.29.0 is exactly one major version older than the runtime version 6.31.1 at feast/core/OnDemandFeatureView.proto. Please update the gencode to avoid compatibility violations in the next runtime release.\n",
      "  warnings.warn(\n",
      "/opt/conda/lib/python3.11/site-packages/google/protobuf/runtime_version.py:98: UserWarning: Protobuf gencode version 5.29.0 is exactly one major version older than the runtime version 6.31.1 at feast/core/Transformation.proto. Please update the gencode to avoid compatibility violations in the next runtime release.\n",
      "  warnings.warn(\n",
      "/opt/conda/lib/python3.11/site-packages/google/protobuf/runtime_version.py:98: UserWarning: Protobuf gencode version 5.29.0 is exactly one major version older than the runtime version 6.31.1 at feast/core/StreamFeatureView.proto. Please update the gencode to avoid compatibility violations in the next runtime release.\n",
      "  warnings.warn(\n",
      "/opt/conda/lib/python3.11/site-packages/google/protobuf/runtime_version.py:98: UserWarning: Protobuf gencode version 5.29.0 is exactly one major version older than the runtime version 6.31.1 at feast/core/Aggregation.proto. Please update the gencode to avoid compatibility violations in the next runtime release.\n",
      "  warnings.warn(\n",
      "/opt/conda/lib/python3.11/site-packages/google/protobuf/runtime_version.py:98: UserWarning: Protobuf gencode version 5.29.0 is exactly one major version older than the runtime version 6.31.1 at feast/core/FeatureService.proto. Please update the gencode to avoid compatibility violations in the next runtime release.\n",
      "  warnings.warn(\n",
      "/opt/conda/lib/python3.11/site-packages/google/protobuf/runtime_version.py:98: UserWarning: Protobuf gencode version 5.29.0 is exactly one major version older than the runtime version 6.31.1 at feast/core/SavedDataset.proto. Please update the gencode to avoid compatibility violations in the next runtime release.\n",
      "  warnings.warn(\n",
      "/opt/conda/lib/python3.11/site-packages/google/protobuf/runtime_version.py:98: UserWarning: Protobuf gencode version 5.29.0 is exactly one major version older than the runtime version 6.31.1 at feast/core/ValidationProfile.proto. Please update the gencode to avoid compatibility violations in the next runtime release.\n",
      "  warnings.warn(\n",
      "/opt/conda/lib/python3.11/site-packages/google/protobuf/runtime_version.py:98: UserWarning: Protobuf gencode version 5.29.0 is exactly one major version older than the runtime version 6.31.1 at feast/core/Project.proto. Please update the gencode to avoid compatibility violations in the next runtime release.\n",
      "  warnings.warn(\n",
      "/opt/conda/lib/python3.11/site-packages/google/protobuf/runtime_version.py:98: UserWarning: Protobuf gencode version 5.29.0 is exactly one major version older than the runtime version 6.31.1 at feast/core/Policy.proto. Please update the gencode to avoid compatibility violations in the next runtime release.\n",
      "  warnings.warn(\n",
      "/opt/conda/lib/python3.11/site-packages/google/protobuf/runtime_version.py:98: UserWarning: Protobuf gencode version 5.29.0 is exactly one major version older than the runtime version 6.31.1 at feast/core/Permission.proto. Please update the gencode to avoid compatibility violations in the next runtime release.\n",
      "  warnings.warn(\n",
      "/opt/conda/lib/python3.11/site-packages/google/protobuf/runtime_version.py:98: UserWarning: Protobuf gencode version 5.29.0 is exactly one major version older than the runtime version 6.31.1 at feast/core/DatastoreTable.proto. Please update the gencode to avoid compatibility violations in the next runtime release.\n",
      "  warnings.warn(\n",
      "/opt/conda/lib/python3.11/site-packages/feast/repo_config.py:268: DeprecationWarning: The serialization version 2 and below will be deprecated in the next release. Specifying `entity_key_serialization_version` to 3 is recommended.\n",
      "  warnings.warn(\n",
      "The `path` of the `RegistryConfig` starts with a plain `postgresql` string. We are updating this to `postgresql+psycopg` to ensure that the `psycopg3` driver is used by `sqlalchemy`. If you want to use `psycopg2` pass `postgresql+psycopg2` explicitely to `path`. To silence this warning, pass `postgresql+psycopg` explicitely to `path`.\n"
     ]
    },
    {
     "name": "stdout",
     "output_type": "stream",
     "text": [
      "✅ get_historical_features executed successfully and returned data.\n"
     ]
    },
    {
     "data": {
      "text/html": [
       "<div>\n",
       "<style scoped>\n",
       "    .dataframe tbody tr th:only-of-type {\n",
       "        vertical-align: middle;\n",
       "    }\n",
       "\n",
       "    .dataframe tbody tr th {\n",
       "        vertical-align: top;\n",
       "    }\n",
       "\n",
       "    .dataframe thead th {\n",
       "        text-align: right;\n",
       "    }\n",
       "</style>\n",
       "<table border=\"1\" class=\"dataframe\">\n",
       "  <thead>\n",
       "    <tr style=\"text-align: right;\">\n",
       "      <th></th>\n",
       "      <th>driver_id</th>\n",
       "      <th>event_timestamp</th>\n",
       "      <th>label_driver_reported_satisfaction</th>\n",
       "      <th>val_to_add</th>\n",
       "      <th>val_to_add_2</th>\n",
       "      <th>conv_rate</th>\n",
       "      <th>acc_rate</th>\n",
       "      <th>avg_daily_trips</th>\n",
       "    </tr>\n",
       "  </thead>\n",
       "  <tbody>\n",
       "    <tr>\n",
       "      <th>0</th>\n",
       "      <td>1001</td>\n",
       "      <td>2021-04-12 10:59:42</td>\n",
       "      <td>1</td>\n",
       "      <td>1</td>\n",
       "      <td>10</td>\n",
       "      <td>0.610259</td>\n",
       "      <td>0.319104</td>\n",
       "      <td>564</td>\n",
       "    </tr>\n",
       "    <tr>\n",
       "      <th>1</th>\n",
       "      <td>1002</td>\n",
       "      <td>2021-04-12 08:12:10</td>\n",
       "      <td>5</td>\n",
       "      <td>2</td>\n",
       "      <td>20</td>\n",
       "      <td>0.973000</td>\n",
       "      <td>0.305229</td>\n",
       "      <td>822</td>\n",
       "    </tr>\n",
       "    <tr>\n",
       "      <th>2</th>\n",
       "      <td>1003</td>\n",
       "      <td>2021-04-12 16:40:26</td>\n",
       "      <td>3</td>\n",
       "      <td>3</td>\n",
       "      <td>30</td>\n",
       "      <td>0.585050</td>\n",
       "      <td>0.132386</td>\n",
       "      <td>650</td>\n",
       "    </tr>\n",
       "  </tbody>\n",
       "</table>\n",
       "</div>"
      ],
      "text/plain": [
       "   driver_id     event_timestamp  label_driver_reported_satisfaction  \\\n",
       "0       1001 2021-04-12 10:59:42                                   1   \n",
       "1       1002 2021-04-12 08:12:10                                   5   \n",
       "2       1003 2021-04-12 16:40:26                                   3   \n",
       "\n",
       "   val_to_add  val_to_add_2  conv_rate  acc_rate  avg_daily_trips  \n",
       "0           1            10   0.610259  0.319104              564  \n",
       "1           2            20   0.973000  0.305229              822  \n",
       "2           3            30   0.585050  0.132386              650  "
      ]
     },
     "metadata": {},
     "output_type": "display_data"
    }
   ],
   "source": [
    "from datetime import datetime\n",
    "import pandas as pd\n",
    "from feast import FeatureStore\n",
    "\n",
    "# Prepare entity DataFrame\n",
    "entity_df = pd.DataFrame.from_dict(\n",
    "    {\n",
    "        \"driver_id\": [1001, 1002, 1003],\n",
    "        \"event_timestamp\": [\n",
    "            datetime(2021, 4, 12, 10, 59, 42),\n",
    "            datetime(2021, 4, 12, 8, 12, 10),\n",
    "            datetime(2021, 4, 12, 16, 40, 26),\n",
    "        ],\n",
    "        \"label_driver_reported_satisfaction\": [1, 5, 3],\n",
    "        \"val_to_add\": [1, 2, 3],\n",
    "        \"val_to_add_2\": [10, 20, 30],\n",
    "    }\n",
    ")\n",
    "\n",
    "# Initialize Feast FeatureStore\n",
    "store = FeatureStore(repo_path=\"specs\")  # Update if your repo path is different\n",
    "\n",
    "# Run and test get_historical_features\n",
    "try:\n",
    "    df = store.get_historical_features(\n",
    "        entity_df=entity_df,\n",
    "        features=[\n",
    "            \"driver_hourly_stats2:conv_rate\",\n",
    "            \"driver_hourly_stats2:acc_rate\",\n",
    "            \"driver_hourly_stats2:avg_daily_trips\",\n",
    "        ],\n",
    "    ).to_df()\n",
    "\n",
    "    # Check that we got some result\n",
    "    assert not df.empty, \"get_historical_features returned an empty DataFrame\"\n",
    "    print(\"✅ get_historical_features executed successfully and returned data.\")\n",
    "    display(df.head())  # Optional: show a few rows\n",
    "except Exception as e:\n",
    "    print(\"❌ Error calling get_historical_features:\")\n",
    "    print(str(e))"
   ]
  },
  {
   "cell_type": "markdown",
   "id": "79c82afb-9198-480c-8038-76c073050cdf",
   "metadata": {},
   "source": [
    "# Materialize Features to Online Store"
   ]
  },
  {
   "cell_type": "code",
   "execution_count": 7,
   "id": "a9966ddf-c7c7-496e-b314-3cf2148be508",
   "metadata": {},
   "outputs": [
    {
     "name": "stderr",
     "output_type": "stream",
     "text": [
      "/opt/conda/lib/python3.11/site-packages/feast/repo_config.py:268: DeprecationWarning: The serialization version 2 and below will be deprecated in the next release. Specifying `entity_key_serialization_version` to 3 is recommended.\n",
      "  warnings.warn(\n",
      "The `path` of the `RegistryConfig` starts with a plain `postgresql` string. We are updating this to `postgresql+psycopg` to ensure that the `psycopg3` driver is used by `sqlalchemy`. If you want to use `psycopg2` pass `postgresql+psycopg2` explicitely to `path`. To silence this warning, pass `postgresql+psycopg` explicitely to `path`.\n"
     ]
    },
    {
     "name": "stdout",
     "output_type": "stream",
     "text": [
      "Materializing \u001b[1m\u001b[32m1\u001b[0m feature views from \u001b[1m\u001b[32m2021-04-01 00:00:00+00:00\u001b[0m to \u001b[1m\u001b[32m2025-06-05 10:45:17+00:00\u001b[0m into the \u001b[1m\u001b[32mpostgres\u001b[0m online store.\n",
      "\n",
      "\u001b[1m\u001b[32mdriver_hourly_stats2\u001b[0m:\n"
     ]
    },
    {
     "name": "stderr",
     "output_type": "stream",
     "text": [
      "100%|████████████████████████████████████████████████████████████████| 5/5 [00:00<00:00, 236.66it/s]\n"
     ]
    }
   ],
   "source": [
    "from datetime import datetime\n",
    "from feast import FeatureStore\n",
    "\n",
    "# Initialize store\n",
    "store = FeatureStore(repo_path=\"specs\")  # adjust if needed\n",
    "\n",
    "# Replace this with your actual earliest event timestamp\n",
    "start = datetime(2021, 4, 1)\n",
    "end = datetime.utcnow()\n",
    "\n",
    "store.materialize(start_date=start, end_date=end)"
   ]
  },
  {
   "cell_type": "code",
   "execution_count": 36,
   "id": "b1685a27-0ff1-4fad-a8c7-29a54db43a8d",
   "metadata": {},
   "outputs": [
    {
     "name": "stdout",
     "output_type": "stream",
     "text": [
      "✅ Table 'feast_project_driver_hourly_stats2' exists in the online store.\n"
     ]
    }
   ],
   "source": [
    "import yaml\n",
    "from sqlalchemy import create_engine, inspect\n",
    "\n",
    "# Step 1: Load online store DB config from feature_store.yaml\n",
    "with open(\"specs/feature_store.yaml\", \"r\") as f:\n",
    "    config = yaml.safe_load(f)\n",
    "\n",
    "project_name = config.get(\"project\")\n",
    "online_config = config.get(\"online_store\", {})\n",
    "\n",
    "db_user = online_config.get(\"user\")\n",
    "db_password = online_config.get(\"password\")\n",
    "db_host = online_config.get(\"host\")\n",
    "db_port = online_config.get(\"port\")\n",
    "db_name = online_config.get(\"database\")\n",
    "\n",
    "# Step 2: Create connection string\n",
    "if not all([db_user, db_password, db_host, db_port, db_name, project_name]):\n",
    "    raise ValueError(\"Missing one or more required config values.\")\n",
    "\n",
    "conn_str = f\"postgresql://{db_user}:{db_password}@{db_host}:{db_port}/{db_name}\"\n",
    "engine = create_engine(conn_str)\n",
    "\n",
    "# Step 3: Inspect tables\n",
    "inspector = inspect(engine)\n",
    "tables = inspector.get_table_names(schema=\"public\")\n",
    "\n",
    "# Step 4: Check for expected table\n",
    "expected_table = f\"{project_name}_driver_hourly_stats2\"\n",
    "assert expected_table in tables, f\"❌ Table '{expected_table}' not found in online store.\"\n",
    "\n",
    "print(f\"✅ Table '{expected_table}' exists in the online store.\")"
   ]
  },
  {
   "cell_type": "markdown",
   "id": "3e282789-84bf-4d55-a998-40c88cc91044",
   "metadata": {},
   "source": [
    "# Retrieve Online Features"
   ]
  },
  {
   "cell_type": "code",
   "execution_count": 8,
   "id": "e60fe02d-d1f2-46df-8ebf-bb6fd7f314de",
   "metadata": {},
   "outputs": [
    {
     "name": "stderr",
     "output_type": "stream",
     "text": [
      "/opt/conda/lib/python3.11/site-packages/feast/repo_config.py:268: DeprecationWarning: The serialization version 2 and below will be deprecated in the next release. Specifying `entity_key_serialization_version` to 3 is recommended.\n",
      "  warnings.warn(\n",
      "The `path` of the `RegistryConfig` starts with a plain `postgresql` string. We are updating this to `postgresql+psycopg` to ensure that the `psycopg3` driver is used by `sqlalchemy`. If you want to use `psycopg2` pass `postgresql+psycopg2` explicitely to `path`. To silence this warning, pass `postgresql+psycopg` explicitely to `path`.\n"
     ]
    },
    {
     "name": "stdout",
     "output_type": "stream",
     "text": [
      "✅ get_online_features returned non-empty data.\n",
      "{'acc_rate': [0.7248384356498718, 0.2648613750934601],\n",
      " 'avg_daily_trips': [13, 533],\n",
      " 'conv_rate': [0.9506867527961731, 0.8889309167861938],\n",
      " 'driver_id': [1004, 1005]}\n"
     ]
    }
   ],
   "source": [
    "from feast import FeatureStore\n",
    "from pprint import pprint\n",
    "\n",
    "# Initialize FeatureStore\n",
    "store = FeatureStore(repo_path=\"specs\")  # adjust if needed\n",
    "\n",
    "# Call get_online_features\n",
    "try:\n",
    "    feature_vector = store.get_online_features(\n",
    "        features=[\n",
    "            \"driver_hourly_stats2:conv_rate\",\n",
    "            \"driver_hourly_stats2:acc_rate\",\n",
    "            \"driver_hourly_stats2:avg_daily_trips\",\n",
    "        ],\n",
    "        entity_rows=[\n",
    "            {\"driver_id\": 1004},\n",
    "            {\"driver_id\": 1005},\n",
    "        ],\n",
    "    ).to_dict()\n",
    "\n",
    "    # Assert that output is non-empty\n",
    "    assert feature_vector and all(\n",
    "        len(v) > 0 for v in feature_vector.values()\n",
    "    ), \"❌ No features returned from online store.\"\n",
    "\n",
    "    print(\"✅ get_online_features returned non-empty data.\")\n",
    "    pprint(feature_vector)\n",
    "\n",
    "except Exception as e:\n",
    "    print(\"❌ Error calling get_online_features:\")\n",
    "    print(str(e))"
   ]
  }
 ],
 "metadata": {
  "kernelspec": {
   "display_name": "Python 3 (ipykernel)",
   "language": "python",
   "name": "python3"
  },
  "language_info": {
   "codemirror_mode": {
    "name": "ipython",
    "version": 3
   },
   "file_extension": ".py",
   "mimetype": "text/x-python",
   "name": "python",
   "nbconvert_exporter": "python",
   "pygments_lexer": "ipython3",
   "version": "3.11.11"
  }
 },
 "nbformat": 4,
 "nbformat_minor": 5
}
