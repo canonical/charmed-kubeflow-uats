{
 "cells": [
  {
   "cell_type": "markdown",
   "id": "ba70a2ba-3645-419b-8f8d-3c75e5864af1",
   "metadata": {},
   "source": [
    "# Test KFP Integration\n",
    "\n",
    "- create an experiment\n",
    "- create a run\n",
    "- check run passes\n",
    "\n",
    "This Notebook is based on the condition Kubeflow pipelines [example](https://github.com/kubeflow/pipelines/blob/master/samples/core/condition/condition_v2.py)."
   ]
  },
  {
   "cell_type": "code",
   "execution_count": null,
   "id": "28f75e55-7bad-44e7-a65f-aedc81734a48",
   "metadata": {
    "tags": [
     "pytest-skip"
    ]
   },
   "outputs": [],
   "source": [
    "# Please check the requirements.in file for more details\n",
    "!pip install -r requirements.txt"
   ]
  },
  {
   "cell_type": "code",
   "execution_count": null,
   "id": "4cdd7548-bae9-4430-b548-f420d72a8aec",
   "metadata": {
    "tags": []
   },
   "outputs": [],
   "source": [
    "import kfp\n",
    "import os\n",
    "\n",
    "from kfp import dsl\n",
    "from tenacity import retry, stop_after_attempt, wait_exponential"
   ]
  },
  {
   "cell_type": "code",
   "execution_count": null,
   "id": "fd576641-1ff4-4fbb-9b3a-122abbd281ed",
   "metadata": {
    "tags": []
   },
   "outputs": [],
   "source": [
    "client = kfp.Client()"
   ]
  },
  {
   "cell_type": "code",
   "execution_count": null,
   "id": "af70bb9d-3fea-40d7-acb9-649007b0bde6",
   "metadata": {
    "tags": []
   },
   "outputs": [],
   "source": [
    "EXPERIMENT_NAME = \"Flip a coin and output tails/heads pipeline\""
   ]
  },
  {
   "cell_type": "code",
   "execution_count": null,
   "id": "0e0bea73-b980-48b0-8c2f-0709af35798b",
   "metadata": {},
   "outputs": [],
   "source": [
    "HTTP_PROXY = HTTPS_PROXY = NO_PROXY = None\n",
    "\n",
    "if os.environ.get(\"HTTP_PROXY\") and os.environ.get(\"HTTPS_PROXY\") and os.environ.get(\"NO_PROXY\"):\n",
    "    HTTP_PROXY = os.environ[\"HTTP_PROXY\"]\n",
    "    HTTPS_PROXY = os.environ[\"HTTPS_PROXY\"]\n",
    "    NO_PROXY = os.environ[\"NO_PROXY\"]"
   ]
  },
  {
   "cell_type": "code",
   "execution_count": null,
   "id": "eb28ac8a-4155-46ab-88a4-dc3f58c24003",
   "metadata": {},
   "outputs": [],
   "source": [
    "def add_proxy(obj, http_proxy=HTTP_PROXY, https_proxy=HTTPS_PROXY, no_proxy=NO_PROXY):\n",
    "    \"\"\"Adds the proxy env vars to the PipelineTask object.\"\"\"\n",
    "    return (\n",
    "        obj.set_env_variable(name=\"http_proxy\", value=http_proxy)\n",
    "        .set_env_variable(name=\"https_proxy\", value=https_proxy)\n",
    "        .set_env_variable(name=\"HTTP_PROXY\", value=http_proxy)\n",
    "        .set_env_variable(name=\"HTTPS_PROXY\", value=https_proxy)\n",
    "        .set_env_variable(name=\"no_proxy\", value=no_proxy)\n",
    "        .set_env_variable(name=\"NO_PROXY\", value=no_proxy)\n",
    "    )"
   ]
  },
  {
   "cell_type": "code",
   "execution_count": null,
   "id": "cd80a4ab-a444-42e0-94ae-ac2d5bd9d315",
   "metadata": {},
   "outputs": [],
   "source": [
    "def proxy_envs_set():\n",
    "    if HTTP_PROXY and HTTPS_PROXY and NO_PROXY:\n",
    "        return True\n",
    "    return False"
   ]
  },
  {
   "cell_type": "code",
   "execution_count": null,
   "id": "40a3a9e1-0645-474e-8451-92ccba88a122",
   "metadata": {
    "tags": []
   },
   "outputs": [],
   "source": [
    "@dsl.component()\n",
    "def flip_coin(force_flip_result: str = \"\") -> str:\n",
    "    \"\"\"Flip a coin and output heads or tails randomly.\"\"\"\n",
    "    if force_flip_result:\n",
    "        return force_flip_result\n",
    "    import random\n",
    "\n",
    "    result = \"heads\" if random.randint(0, 1) == 0 else \"tails\"\n",
    "    return result"
   ]
  },
  {
   "cell_type": "code",
   "execution_count": null,
   "id": "1d134c8b-54a7-4d10-ae2f-321ff305600a",
   "metadata": {
    "tags": []
   },
   "outputs": [],
   "source": [
    "@dsl.component()\n",
    "def print_msg(msg: str):\n",
    "    \"\"\"Print a message.\"\"\"\n",
    "    print(msg)"
   ]
  },
  {
   "cell_type": "code",
   "execution_count": null,
   "id": "c8132d87-877c-4bfb-9127-e1f964fe3acb",
   "metadata": {
    "tags": []
   },
   "outputs": [],
   "source": [
    "@dsl.pipeline(name=\"condition-v2\")\n",
    "def condition_pipeline(text: str = \"condition test\", force_flip_result: str = \"\"):\n",
    "    flip1 = flip_coin(force_flip_result=force_flip_result)\n",
    "    print_msg(msg=flip1.output)\n",
    "\n",
    "    with dsl.Condition(flip1.output == \"heads\"):\n",
    "        flip2 = flip_coin()\n",
    "        print_msg(msg=flip2.output)\n",
    "        print_msg(msg=text)"
   ]
  },
  {
   "cell_type": "code",
   "execution_count": null,
   "id": "c04029ac-f284-4a13-a39c-6af783ec2b10",
   "metadata": {},
   "outputs": [],
   "source": [
    "@dsl.pipeline(name=\"condition-v2\")\n",
    "def condition_pipeline_proxy(text: str = \"condition test\", force_flip_result: str = \"\"):\n",
    "    flip1 = add_proxy(flip_coin(force_flip_result=force_flip_result))\n",
    "    add_proxy(print_msg(msg=flip1.output))\n",
    "\n",
    "    with dsl.Condition(flip1.output == \"heads\"):\n",
    "        flip2 = add_proxy(flip_coin())\n",
    "        add_proxy(print_msg(msg=flip2.output))\n",
    "        add_proxy(print_msg(msg=text))"
   ]
  },
  {
   "cell_type": "code",
   "execution_count": null,
   "id": "b85cc961-b6cc-4434-a59d-31e4c8a6e175",
   "metadata": {
    "tags": []
   },
   "outputs": [],
   "source": [
    "# Setting enable_caching to False to overcome https://github.com/canonical/bundle-kubeflow/issues/1067\n",
    "if proxy_envs_set():\n",
    "    run = client.create_run_from_pipeline_func(\n",
    "        condition_pipeline_proxy,\n",
    "        experiment_name=EXPERIMENT_NAME,\n",
    "        enable_caching=False,\n",
    "    )\n",
    "else:\n",
    "    run = client.create_run_from_pipeline_func(\n",
    "        condition_pipeline,\n",
    "        experiment_name=EXPERIMENT_NAME,\n",
    "        enable_caching=False,\n",
    "    )"
   ]
  },
  {
   "cell_type": "code",
   "execution_count": null,
   "id": "37ebdc86-a16d-40a0-bc7e-33a2b90914f8",
   "metadata": {
    "tags": []
   },
   "outputs": [],
   "source": [
    "client.list_experiments().experiments"
   ]
  },
  {
   "cell_type": "code",
   "execution_count": null,
   "id": "3226c13b-9d08-47e7-812f-47529c02d9dc",
   "metadata": {
    "tags": []
   },
   "outputs": [],
   "source": [
    "client.get_run(run.run_id).state"
   ]
  },
  {
   "cell_type": "code",
   "execution_count": null,
   "id": "d945e7ba-dc63-46f5-93e4-a1edfe56aa81",
   "metadata": {
    "tags": []
   },
   "outputs": [],
   "source": [
    "@retry(\n",
    "    wait=wait_exponential(multiplier=2, min=1, max=10),\n",
    "    stop=stop_after_attempt(30),\n",
    "    reraise=True,\n",
    ")\n",
    "def assert_run_succeeded(client, run_id):\n",
    "    \"\"\"Wait for the run to complete successfully.\"\"\"\n",
    "    status = client.get_run(run_id).state\n",
    "    assert status == \"SUCCEEDED\", f\"KFP run in {status} state.\""
   ]
  },
  {
   "cell_type": "code",
   "execution_count": null,
   "id": "2a9d0fa8-a825-4d0d-a384-3022dc451ba8",
   "metadata": {
    "tags": [
     "raises-exception"
    ]
   },
   "outputs": [],
   "source": [
    "# fetch KFP experiment to ensure it exists\n",
    "client.get_experiment(experiment_name=EXPERIMENT_NAME)\n",
    "\n",
    "assert_run_succeeded(client, run.run_id)"
   ]
  },
  {
   "cell_type": "code",
   "execution_count": null,
   "id": "6eefaf73-53ab-4136-94c9-6b8e5006864a",
   "metadata": {},
   "outputs": [],
   "source": []
  }
 ],
 "metadata": {
  "kernelspec": {
   "display_name": "Python 3 (ipykernel)",
   "language": "python",
   "name": "python3"
  },
  "language_info": {
   "codemirror_mode": {
    "name": "ipython",
    "version": 3
   },
   "file_extension": ".py",
   "mimetype": "text/x-python",
   "name": "python",
   "nbconvert_exporter": "python",
   "pygments_lexer": "ipython3",
   "version": "3.11.9"
  }
 },
 "nbformat": 4,
 "nbformat_minor": 5
}
