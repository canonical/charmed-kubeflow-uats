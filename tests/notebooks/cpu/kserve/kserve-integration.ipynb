{
 "cells": [
  {
   "attachments": {},
   "cell_type": "markdown",
   "id": "2b1c430f-1b3c-4c18-b5b3-0b3757f01259",
   "metadata": {},
   "source": [
    "# Test KServe Integration\n",
    "\n",
    "This example notebook is loosely based on [this](https://github.com/kubeflow/examples/blob/master/kserve/sdk/first_isvc_kserve.ipynb) upstream example. Note that this only works with `Serverless` deployment mode at the moment.\n",
    "\n",
    "- create Inference Service\n",
    "- perform inference"
   ]
  },
  {
   "attachments": {},
   "cell_type": "markdown",
   "id": "26ac0a3d-10ee-4f92-a9e0-e1b5c550bd8b",
   "metadata": {},
   "source": [
    "## Setup"
   ]
  },
  {
   "cell_type": "code",
   "execution_count": null,
   "id": "9fbb8bc8-0eb0-4853-bef6-e2098eb2829c",
   "metadata": {
    "tags": [
     "pytest-skip"
    ]
   },
   "outputs": [],
   "source": [
    "# Please check the requirements.in file for more details\n",
    "!pip install -r requirements.txt"
   ]
  },
  {
   "attachments": {},
   "cell_type": "markdown",
   "id": "306c9dc8-2ee7-4d2d-bbf8-38f4fadd3c73",
   "metadata": {},
   "source": [
    "### Import required packages"
   ]
  },
  {
   "cell_type": "code",
   "execution_count": null,
   "id": "715c03bb-ef5a-4468-a370-a106f44061bc",
   "metadata": {},
   "outputs": [],
   "source": [
    "import requests\n",
    "\n",
    "from kserve import (\n",
    "    constants,\n",
    "    KServeClient,\n",
    "    V1beta1InferenceService,\n",
    "    V1beta1InferenceServiceSpec,\n",
    "    V1beta1PredictorSpec,\n",
    "    V1beta1SKLearnSpec,\n",
    ")\n",
    "from kubernetes.client import V1ObjectMeta\n",
    "from tenacity import retry, stop_after_attempt, wait_exponential"
   ]
  },
  {
   "attachments": {},
   "cell_type": "markdown",
   "id": "2d29d9ed-dd6e-474c-93f9-dceaa25109d4",
   "metadata": {},
   "source": [
    "## Define Inference Service"
   ]
  },
  {
   "cell_type": "code",
   "execution_count": null,
   "id": "2e10aac9-72ed-4ff6-a089-60b821d06911",
   "metadata": {},
   "outputs": [],
   "source": [
    "ISVC_NAME = \"sklearn-iris\""
   ]
  },
  {
   "cell_type": "code",
   "execution_count": null,
   "id": "c4f6a4fb-a21c-49cc-8b4f-100fff22b0d3",
   "metadata": {},
   "outputs": [],
   "source": [
    "isvc = V1beta1InferenceService(\n",
    "    api_version=constants.KSERVE_V1BETA1,\n",
    "    kind=constants.KSERVE_KIND,\n",
    "    metadata=V1ObjectMeta(\n",
    "        name=ISVC_NAME,\n",
    "        annotations={\"sidecar.istio.io/inject\": \"false\"},\n",
    "    ),\n",
    "    spec=V1beta1InferenceServiceSpec(\n",
    "        predictor=V1beta1PredictorSpec(\n",
    "            sklearn=V1beta1SKLearnSpec(\n",
    "                storage_uri=\"gs://kfserving-examples/models/sklearn/1.0/model\"\n",
    "            )\n",
    "        )\n",
    "    ),\n",
    ")"
   ]
  },
  {
   "attachments": {},
   "cell_type": "markdown",
   "id": "6348b4c0-42d0-4dc1-bdb4-8f686bcdbbb7",
   "metadata": {},
   "source": [
    "## Create Inference Service"
   ]
  },
  {
   "attachments": {},
   "cell_type": "markdown",
   "id": "b3ed57ac-2170-4b60-949d-898cb7787e52",
   "metadata": {},
   "source": [
    "### Initialise KServe Client"
   ]
  },
  {
   "cell_type": "code",
   "execution_count": null,
   "id": "35dc21f1-d3c4-4693-867b-2ebfd141c161",
   "metadata": {},
   "outputs": [],
   "source": [
    "client = KServeClient()"
   ]
  },
  {
   "attachments": {},
   "cell_type": "markdown",
   "id": "6f12f22a-5aca-40bf-9930-e68c0fc3ee85",
   "metadata": {},
   "source": [
    "### Submit Inference Service"
   ]
  },
  {
   "cell_type": "code",
   "execution_count": null,
   "id": "f02a6871-da47-4f55-b7d3-80da300488f1",
   "metadata": {},
   "outputs": [],
   "source": [
    "client.create(isvc)"
   ]
  },
  {
   "cell_type": "code",
   "execution_count": null,
   "id": "e8cb648e-bf9d-455e-a40e-022c35772aa3",
   "metadata": {},
   "outputs": [],
   "source": [
    "@retry(\n",
    "    wait=wait_exponential(multiplier=2, min=1, max=10),\n",
    "    stop=stop_after_attempt(30),\n",
    "    reraise=True,\n",
    ")\n",
    "def assert_isvc_created(client, isvc_name):\n",
    "    \"\"\"Wait for the Inference Service to be created successfully.\"\"\"\n",
    "    assert client.is_isvc_ready(ISVC_NAME), f\"Failed to create Inference Service {isvc_name}.\""
   ]
  },
  {
   "cell_type": "code",
   "execution_count": null,
   "id": "50871dc2-9ef1-4458-813b-2d9dca03c6a1",
   "metadata": {
    "tags": [
     "raises-exception"
    ]
   },
   "outputs": [],
   "source": [
    "assert_isvc_created(client, ISVC_NAME)"
   ]
  },
  {
   "attachments": {},
   "cell_type": "markdown",
   "id": "1c03aeca-0828-4db1-9051-88eb25a26277",
   "metadata": {},
   "source": [
    "## Perform Inference"
   ]
  },
  {
   "cell_type": "code",
   "execution_count": null,
   "id": "8522c4e9-07b7-4bff-9b49-3675ff19bacc",
   "metadata": {},
   "outputs": [],
   "source": [
    "@retry(\n",
    "    wait=wait_exponential(multiplier=2, min=1, max=10),\n",
    "    stop=stop_after_attempt(30),\n",
    "    reraise=True,\n",
    ")\n",
    "def get_isvc_url(client, isvc_name):\n",
    "    \"\"\"Get ISVC from client and return it's URL\n",
    "\n",
    "    Add a retry clause to address the following intermittent issue\n",
    "    https://github.com/canonical/bundle-kubeflow/issues/1100\"\"\"\n",
    "    isvc_object = client.get(isvc_name)\n",
    "    return isvc_object[\"status\"][\"address\"][\"url\"]\n",
    "\n",
    "\n",
    "url = get_isvc_url(client, ISVC_NAME)\n",
    "print(\"Inference URL:\", url)"
   ]
  },
  {
   "attachments": {},
   "cell_type": "markdown",
   "id": "2557d625-b08f-4086-9626-2c4cd8dabe66",
   "metadata": {},
   "source": [
    "Hit the service for predictions using the above URL."
   ]
  },
  {
   "cell_type": "code",
   "execution_count": null,
   "id": "4ef27af2-9ae0-4adf-9058-ecc5ac84ef24",
   "metadata": {},
   "outputs": [],
   "source": [
    "inference_input = {\"instances\": [[6.8, 2.8, 4.8, 1.4], [6.0, 3.4, 4.5, 1.6]]}\n",
    "response = requests.post(f\"{url}/v1/models/sklearn-iris:predict\", json=inference_input)\n",
    "print(response.text)"
   ]
  },
  {
   "cell_type": "code",
   "execution_count": null,
   "id": "9559d383-8124-4201-b160-bd8cc7784d48",
   "metadata": {
    "tags": [
     "raises-exception"
    ]
   },
   "outputs": [],
   "source": [
    "res = response.json()\n",
    "# verify that the predictions are as expected\n",
    "assert res.get(\"predictions\"), \"Failed to get predictions!\"\n",
    "assert res[\"predictions\"] == [1, 1], \"Predictions different than expected!\""
   ]
  },
  {
   "attachments": {},
   "cell_type": "markdown",
   "id": "a7c75c2c-0be2-4055-a09c-0a0da616a3b8",
   "metadata": {},
   "source": [
    "## Delete Inference Service"
   ]
  },
  {
   "cell_type": "code",
   "execution_count": null,
   "id": "a8d14051-decb-4c14-bc16-7ea04c3dd371",
   "metadata": {},
   "outputs": [],
   "source": [
    "client.delete(ISVC_NAME);"
   ]
  },
  {
   "cell_type": "code",
   "execution_count": null,
   "id": "95ae1ec2-7275-4e02-a193-3a19f7501637",
   "metadata": {
    "tags": []
   },
   "outputs": [],
   "source": [
    "@retry(\n",
    "    wait=wait_exponential(multiplier=2, min=1, max=10),\n",
    "    stop=stop_after_attempt(30),\n",
    "    reraise=True,\n",
    ")\n",
    "def assert_isvc_deleted(client, isvc_name):\n",
    "    \"\"\"Wait for the Inference Service to be deleted.\"\"\"\n",
    "    try:\n",
    "        # try fetching the ISVC to verify it was deleted successfully\n",
    "        isvc = client.get(isvc_name)\n",
    "        assert not isvc, f\"Failed to delete Inference Service {isvc_name}!\"\n",
    "    except RuntimeError as err:\n",
    "        assert \"Not Found\" in str(err), f\"Caught unexpected exception: {err}\""
   ]
  },
  {
   "cell_type": "code",
   "execution_count": null,
   "id": "b0961b27-6c5e-43ea-bbcc-241c925a7839",
   "metadata": {
    "tags": [
     "raises-exception"
    ]
   },
   "outputs": [],
   "source": [
    "assert_isvc_deleted(client, ISVC_NAME)"
   ]
  }
 ],
 "metadata": {
  "kernelspec": {
   "display_name": "Python 3 (ipykernel)",
   "language": "python",
   "name": "python3"
  },
  "language_info": {
   "codemirror_mode": {
    "name": "ipython",
    "version": 3
   },
   "file_extension": ".py",
   "mimetype": "text/x-python",
   "name": "python",
   "nbconvert_exporter": "python",
   "pygments_lexer": "ipython3",
   "version": "3.8.10"
  }
 },
 "nbformat": 4,
 "nbformat_minor": 5
}
